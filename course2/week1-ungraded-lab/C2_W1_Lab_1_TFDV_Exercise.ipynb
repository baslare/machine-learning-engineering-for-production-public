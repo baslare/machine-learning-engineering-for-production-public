{
 "cells": [
  {
   "cell_type": "markdown",
   "metadata": {
    "id": "2V_OLlgtQ0DW"
   },
   "source": [
    "# Ungraded Lab: TFDV Exercise\n",
    "\n",
    "\n",
    "In this notebook, you will get to practice using [TensorFlow Data Validation (TFDV)](https://cloud.google.com/solutions/machine-learning/analyzing-and-validating-data-at-scale-for-ml-using-tfx), an open-source Python package from the [TensorFlow Extended (TFX)](https://www.tensorflow.org/tfx) ecosystem. \n",
    "\n",
    "TFDV helps to understand, validate, and monitor production machine learning data at scale. It provides insight into some key questions in the data analysis process such as:\n",
    "\n",
    "* What are the underlying statistics of my data?\n",
    "\n",
    "* What does my training dataset look like?\n",
    "\n",
    "* How does my evaluation and serving datasets compare to the training dataset?\n",
    "\n",
    "* How can I find and fix data anomalies?\n",
    "\n",
    "The figure below summarizes the usual TFDV workflow:\n",
    "\n",
    "<img src='img/tfdv.png' alt='picture of tfdv workflow'>\n",
    "\n",
    "As shown, you can use TFDV to compute descriptive statistics of the training data and generate a schema. You can then validate new datasets (e.g. the serving dataset from your customers) against this schema to detect and fix anomalies. This helps prevent the different types of skew. That way, you can be confident that your model is training on or predicting data that is consistent with the expected feature types and distribution.\n",
    "\n",
    "This ungraded exercise demonstrates useful functions of TFDV at an introductory level as preparation for this week's graded programming exercise. Specifically, you will:\n",
    "\n",
    "- **Generate and visualize statistics from a dataset**\n",
    "- **Detect and fix anomalies in an evaluation dataset**\n",
    "\n",
    "Let's begin!"
   ]
  },
  {
   "cell_type": "markdown",
   "metadata": {
    "id": "lyGr4CC8AUfu"
   },
   "source": [
    "## Package Installation and Imports"
   ]
  },
  {
   "cell_type": "code",
   "execution_count": 1,
   "metadata": {
    "id": "GHi-tkOeBOis"
   },
   "outputs": [
    {
     "name": "stdout",
     "output_type": "stream",
     "text": [
      "TFDV Version: 1.13.0\n",
      "Tensorflow Version: 2.12.0\n"
     ]
    }
   ],
   "source": [
    "import tensorflow as tf\n",
    "import tensorflow_data_validation as tfdv\n",
    "import pandas as pd\n",
    "\n",
    "from sklearn.model_selection import train_test_split\n",
    "from util import add_extra_rows\n",
    "\n",
    "from tensorflow_metadata.proto.v0 import schema_pb2\n",
    "\n",
    "print('TFDV Version: {}'.format(tfdv.__version__))\n",
    "print('Tensorflow Version: {}'.format(tf.__version__))"
   ]
  },
  {
   "cell_type": "markdown",
   "metadata": {
    "id": "Kzt9rO9eAGF-"
   },
   "source": [
    "## Download the dataset\n",
    "\n",
    "You will be working with the [Census Income Dataset](http://archive.ics.uci.edu/ml/datasets/Census+Income), a dataset that can be used to predict if an individual earns more than or less than 50k US Dollars annually. The summary of attribute names with descriptions/expected values is shown below and you can read more about it [in this data description file.](https://archive.ics.uci.edu/ml/machine-learning-databases/adult/adult.names)\n",
    "\n",
    "\n",
    "* **age**: continuous.\n",
    "* **workclass**: Private, Self-emp-not-inc, Self-emp-inc, Federal-gov, Local-gov, State-gov, Without-pay, Never-worked.\n",
    "* **fnlwgt**: continuous.\n",
    "* **education**: Bachelors, Some-college, 11th, HS-grad, Prof-school, Assoc-acdm, Assoc-voc, 9th, 7th-8th, 12th, Masters, 1st-4th, 10th, Doctorate, 5th-6th, Preschool.\n",
    "* **education-num**: continuous.\n",
    "* **marital-status**: Married-civ-spouse, Divorced, Never-married, Separated, Widowed, Married-spouse-absent, Married-AF-spouse.\n",
    "* **occupation**: Tech-support, Craft-repair, Other-service, Sales, Exec-managerial, Prof-specialty, Handlers-cleaners, Machine-op-inspct, Adm-clerical, Farming-fishing, Transport-moving, Priv-house-serv, Protective-serv, Armed-Forces.\n",
    "* **relationship**: Wife, Own-child, Husband, Not-in-family, Other-relative, Unmarried.\n",
    "* **race**: White, Asian-Pac-Islander, Amer-Indian-Eskimo, Other, Black.\n",
    "* **sex**: Female, Male.\n",
    "* **capital-gain**: continuous.\n",
    "* **capital-loss**: continuous.\n",
    "* **hours-per-week**: continuous.\n",
    "* **native-country**: United-States, Cambodia, England, Puerto-Rico, Canada, Germany, Outlying-US(Guam-USVI-etc), India, Japan, Greece, South, China, Cuba, Iran, Honduras, Philippines, Italy, Poland, Jamaica, Vietnam, Mexico, Portugal, Ireland, France, Dominican-Republic, Laos, Ecuador, Taiwan, Haiti, Columbia, Hungary, Guatemala, Nicaragua, Scotland, Thailand, Yugoslavia, El-Salvador, Trinadad&Tobago, Peru, Hong, Holand-Netherlands.\n",
    "\n",
    "Let's load the dataset and split it into training and evaluation sets. We will not shuffle them for consistent results in this demo notebook but you should otherwise in real projects."
   ]
  },
  {
   "cell_type": "code",
   "execution_count": 3,
   "metadata": {
    "id": "WKTfuT2rga-_"
   },
   "outputs": [],
   "source": [
    "# Read in the training and evaluation datasets\n",
    "df = pd.read_csv('https://raw.githubusercontent.com/pooja2512/Adult-Census-Income/master/adult.csv', skipinitialspace=True)\n",
    "\n",
    "# Split the dataset. Do not shuffle for this demo notebook.\n",
    "train_df, eval_df = train_test_split(df, test_size=0.2, shuffle=False)"
   ]
  },
  {
   "cell_type": "markdown",
   "metadata": {
    "id": "0RQvgiMRq0pn"
   },
   "source": [
    "Let's see the first few columns of the train and eval sets."
   ]
  },
  {
   "cell_type": "code",
   "execution_count": 4,
   "metadata": {
    "id": "uxDFD6dR0PYH"
   },
   "outputs": [
    {
     "data": {
      "text/html": [
       "<div>\n",
       "<style scoped>\n",
       "    .dataframe tbody tr th:only-of-type {\n",
       "        vertical-align: middle;\n",
       "    }\n",
       "\n",
       "    .dataframe tbody tr th {\n",
       "        vertical-align: top;\n",
       "    }\n",
       "\n",
       "    .dataframe thead th {\n",
       "        text-align: right;\n",
       "    }\n",
       "</style>\n",
       "<table border=\"1\" class=\"dataframe\">\n",
       "  <thead>\n",
       "    <tr style=\"text-align: right;\">\n",
       "      <th></th>\n",
       "      <th>age</th>\n",
       "      <th>workclass</th>\n",
       "      <th>fnlwgt</th>\n",
       "      <th>education</th>\n",
       "      <th>education.num</th>\n",
       "      <th>marital.status</th>\n",
       "      <th>occupation</th>\n",
       "      <th>relationship</th>\n",
       "      <th>race</th>\n",
       "      <th>sex</th>\n",
       "      <th>capital.gain</th>\n",
       "      <th>capital.loss</th>\n",
       "      <th>hours.per.week</th>\n",
       "      <th>native.country</th>\n",
       "      <th>income</th>\n",
       "    </tr>\n",
       "  </thead>\n",
       "  <tbody>\n",
       "    <tr>\n",
       "      <th>0</th>\n",
       "      <td>90</td>\n",
       "      <td>?</td>\n",
       "      <td>77053</td>\n",
       "      <td>HS-grad</td>\n",
       "      <td>9</td>\n",
       "      <td>Widowed</td>\n",
       "      <td>?</td>\n",
       "      <td>Not-in-family</td>\n",
       "      <td>White</td>\n",
       "      <td>Female</td>\n",
       "      <td>0</td>\n",
       "      <td>4356</td>\n",
       "      <td>40</td>\n",
       "      <td>United-States</td>\n",
       "      <td>&lt;=50K</td>\n",
       "    </tr>\n",
       "    <tr>\n",
       "      <th>1</th>\n",
       "      <td>82</td>\n",
       "      <td>Private</td>\n",
       "      <td>132870</td>\n",
       "      <td>HS-grad</td>\n",
       "      <td>9</td>\n",
       "      <td>Widowed</td>\n",
       "      <td>Exec-managerial</td>\n",
       "      <td>Not-in-family</td>\n",
       "      <td>White</td>\n",
       "      <td>Female</td>\n",
       "      <td>0</td>\n",
       "      <td>4356</td>\n",
       "      <td>18</td>\n",
       "      <td>United-States</td>\n",
       "      <td>&lt;=50K</td>\n",
       "    </tr>\n",
       "    <tr>\n",
       "      <th>2</th>\n",
       "      <td>66</td>\n",
       "      <td>?</td>\n",
       "      <td>186061</td>\n",
       "      <td>Some-college</td>\n",
       "      <td>10</td>\n",
       "      <td>Widowed</td>\n",
       "      <td>?</td>\n",
       "      <td>Unmarried</td>\n",
       "      <td>Black</td>\n",
       "      <td>Female</td>\n",
       "      <td>0</td>\n",
       "      <td>4356</td>\n",
       "      <td>40</td>\n",
       "      <td>United-States</td>\n",
       "      <td>&lt;=50K</td>\n",
       "    </tr>\n",
       "    <tr>\n",
       "      <th>3</th>\n",
       "      <td>54</td>\n",
       "      <td>Private</td>\n",
       "      <td>140359</td>\n",
       "      <td>7th-8th</td>\n",
       "      <td>4</td>\n",
       "      <td>Divorced</td>\n",
       "      <td>Machine-op-inspct</td>\n",
       "      <td>Unmarried</td>\n",
       "      <td>White</td>\n",
       "      <td>Female</td>\n",
       "      <td>0</td>\n",
       "      <td>3900</td>\n",
       "      <td>40</td>\n",
       "      <td>United-States</td>\n",
       "      <td>&lt;=50K</td>\n",
       "    </tr>\n",
       "    <tr>\n",
       "      <th>4</th>\n",
       "      <td>41</td>\n",
       "      <td>Private</td>\n",
       "      <td>264663</td>\n",
       "      <td>Some-college</td>\n",
       "      <td>10</td>\n",
       "      <td>Separated</td>\n",
       "      <td>Prof-specialty</td>\n",
       "      <td>Own-child</td>\n",
       "      <td>White</td>\n",
       "      <td>Female</td>\n",
       "      <td>0</td>\n",
       "      <td>3900</td>\n",
       "      <td>40</td>\n",
       "      <td>United-States</td>\n",
       "      <td>&lt;=50K</td>\n",
       "    </tr>\n",
       "  </tbody>\n",
       "</table>\n",
       "</div>"
      ],
      "text/plain": [
       "   age workclass  fnlwgt     education  education.num marital.status  \\\n",
       "0   90         ?   77053       HS-grad              9        Widowed   \n",
       "1   82   Private  132870       HS-grad              9        Widowed   \n",
       "2   66         ?  186061  Some-college             10        Widowed   \n",
       "3   54   Private  140359       7th-8th              4       Divorced   \n",
       "4   41   Private  264663  Some-college             10      Separated   \n",
       "\n",
       "          occupation   relationship   race     sex  capital.gain  \\\n",
       "0                  ?  Not-in-family  White  Female             0   \n",
       "1    Exec-managerial  Not-in-family  White  Female             0   \n",
       "2                  ?      Unmarried  Black  Female             0   \n",
       "3  Machine-op-inspct      Unmarried  White  Female             0   \n",
       "4     Prof-specialty      Own-child  White  Female             0   \n",
       "\n",
       "   capital.loss  hours.per.week native.country income  \n",
       "0          4356              40  United-States  <=50K  \n",
       "1          4356              18  United-States  <=50K  \n",
       "2          4356              40  United-States  <=50K  \n",
       "3          3900              40  United-States  <=50K  \n",
       "4          3900              40  United-States  <=50K  "
      ]
     },
     "execution_count": 4,
     "metadata": {},
     "output_type": "execute_result"
    }
   ],
   "source": [
    "# Preview the train set\n",
    "train_df.head()"
   ]
  },
  {
   "cell_type": "code",
   "execution_count": 5,
   "metadata": {
    "id": "yyrmQLCm0a5V"
   },
   "outputs": [
    {
     "data": {
      "text/html": [
       "<div>\n",
       "<style scoped>\n",
       "    .dataframe tbody tr th:only-of-type {\n",
       "        vertical-align: middle;\n",
       "    }\n",
       "\n",
       "    .dataframe tbody tr th {\n",
       "        vertical-align: top;\n",
       "    }\n",
       "\n",
       "    .dataframe thead th {\n",
       "        text-align: right;\n",
       "    }\n",
       "</style>\n",
       "<table border=\"1\" class=\"dataframe\">\n",
       "  <thead>\n",
       "    <tr style=\"text-align: right;\">\n",
       "      <th></th>\n",
       "      <th>age</th>\n",
       "      <th>workclass</th>\n",
       "      <th>fnlwgt</th>\n",
       "      <th>education</th>\n",
       "      <th>education.num</th>\n",
       "      <th>marital.status</th>\n",
       "      <th>occupation</th>\n",
       "      <th>relationship</th>\n",
       "      <th>race</th>\n",
       "      <th>sex</th>\n",
       "      <th>capital.gain</th>\n",
       "      <th>capital.loss</th>\n",
       "      <th>hours.per.week</th>\n",
       "      <th>native.country</th>\n",
       "      <th>income</th>\n",
       "    </tr>\n",
       "  </thead>\n",
       "  <tbody>\n",
       "    <tr>\n",
       "      <th>26048</th>\n",
       "      <td>45</td>\n",
       "      <td>Private</td>\n",
       "      <td>194698</td>\n",
       "      <td>Some-college</td>\n",
       "      <td>10</td>\n",
       "      <td>Married-civ-spouse</td>\n",
       "      <td>Craft-repair</td>\n",
       "      <td>Husband</td>\n",
       "      <td>White</td>\n",
       "      <td>Male</td>\n",
       "      <td>0</td>\n",
       "      <td>0</td>\n",
       "      <td>40</td>\n",
       "      <td>United-States</td>\n",
       "      <td>&gt;50K</td>\n",
       "    </tr>\n",
       "    <tr>\n",
       "      <th>26049</th>\n",
       "      <td>18</td>\n",
       "      <td>?</td>\n",
       "      <td>67793</td>\n",
       "      <td>HS-grad</td>\n",
       "      <td>9</td>\n",
       "      <td>Never-married</td>\n",
       "      <td>?</td>\n",
       "      <td>Own-child</td>\n",
       "      <td>White</td>\n",
       "      <td>Female</td>\n",
       "      <td>0</td>\n",
       "      <td>0</td>\n",
       "      <td>60</td>\n",
       "      <td>United-States</td>\n",
       "      <td>&lt;=50K</td>\n",
       "    </tr>\n",
       "    <tr>\n",
       "      <th>26050</th>\n",
       "      <td>27</td>\n",
       "      <td>Private</td>\n",
       "      <td>289147</td>\n",
       "      <td>Bachelors</td>\n",
       "      <td>13</td>\n",
       "      <td>Never-married</td>\n",
       "      <td>Prof-specialty</td>\n",
       "      <td>Own-child</td>\n",
       "      <td>White</td>\n",
       "      <td>Female</td>\n",
       "      <td>0</td>\n",
       "      <td>0</td>\n",
       "      <td>40</td>\n",
       "      <td>United-States</td>\n",
       "      <td>&lt;=50K</td>\n",
       "    </tr>\n",
       "    <tr>\n",
       "      <th>26051</th>\n",
       "      <td>21</td>\n",
       "      <td>Private</td>\n",
       "      <td>229826</td>\n",
       "      <td>Some-college</td>\n",
       "      <td>10</td>\n",
       "      <td>Married-civ-spouse</td>\n",
       "      <td>Machine-op-inspct</td>\n",
       "      <td>Husband</td>\n",
       "      <td>White</td>\n",
       "      <td>Male</td>\n",
       "      <td>0</td>\n",
       "      <td>0</td>\n",
       "      <td>20</td>\n",
       "      <td>United-States</td>\n",
       "      <td>&lt;=50K</td>\n",
       "    </tr>\n",
       "    <tr>\n",
       "      <th>26052</th>\n",
       "      <td>49</td>\n",
       "      <td>Self-emp-inc</td>\n",
       "      <td>246739</td>\n",
       "      <td>Some-college</td>\n",
       "      <td>10</td>\n",
       "      <td>Married-civ-spouse</td>\n",
       "      <td>Craft-repair</td>\n",
       "      <td>Husband</td>\n",
       "      <td>White</td>\n",
       "      <td>Male</td>\n",
       "      <td>0</td>\n",
       "      <td>0</td>\n",
       "      <td>45</td>\n",
       "      <td>United-States</td>\n",
       "      <td>&gt;50K</td>\n",
       "    </tr>\n",
       "  </tbody>\n",
       "</table>\n",
       "</div>"
      ],
      "text/plain": [
       "       age     workclass  fnlwgt     education  education.num  \\\n",
       "26048   45       Private  194698  Some-college             10   \n",
       "26049   18             ?   67793       HS-grad              9   \n",
       "26050   27       Private  289147     Bachelors             13   \n",
       "26051   21       Private  229826  Some-college             10   \n",
       "26052   49  Self-emp-inc  246739  Some-college             10   \n",
       "\n",
       "           marital.status         occupation relationship   race     sex  \\\n",
       "26048  Married-civ-spouse       Craft-repair      Husband  White    Male   \n",
       "26049       Never-married                  ?    Own-child  White  Female   \n",
       "26050       Never-married     Prof-specialty    Own-child  White  Female   \n",
       "26051  Married-civ-spouse  Machine-op-inspct      Husband  White    Male   \n",
       "26052  Married-civ-spouse       Craft-repair      Husband  White    Male   \n",
       "\n",
       "       capital.gain  capital.loss  hours.per.week native.country income  \n",
       "26048             0             0              40  United-States   >50K  \n",
       "26049             0             0              60  United-States  <=50K  \n",
       "26050             0             0              40  United-States  <=50K  \n",
       "26051             0             0              20  United-States  <=50K  \n",
       "26052             0             0              45  United-States   >50K  "
      ]
     },
     "execution_count": 5,
     "metadata": {},
     "output_type": "execute_result"
    }
   ],
   "source": [
    "# Preview the eval set\n",
    "eval_df.head()"
   ]
  },
  {
   "cell_type": "markdown",
   "metadata": {
    "id": "12_uIoIjr9lv"
   },
   "source": [
    "From these few columns, you can get a first impression of the data. You will notice that most are strings and integers. There are also columns that are mostly zeroes. In the next sections, you will see how to use TFDV to aggregate and process this information so you can inspect it more easily."
   ]
  },
  {
   "cell_type": "markdown",
   "metadata": {},
   "source": [
    "### Adding extra rows\n",
    "\n",
    "To demonstrate how TFDV can detect anomalies later, you will add a few extra rows to the evaluation dataset. These are either malformed or have values that will trigger certain alarms later in this notebook. The code to add these can be seen in the `add_extra_rows()` function of `util.py` found in your Jupyter workspace. You can look at it later and even modify it after you've completed the entire exercise. For now, let's just execute the function and add the rows that we've defined by default."
   ]
  },
  {
   "cell_type": "code",
   "execution_count": 6,
   "metadata": {},
   "outputs": [
    {
     "name": "stderr",
     "output_type": "stream",
     "text": [
      "C:\\Users\\Efe\\PycharmProjects\\machine-learning-engineering-for-production-public\\course2\\week1-ungraded-lab\\util.py:72: FutureWarning: The frame.append method is deprecated and will be removed from pandas in a future version. Use pandas.concat instead.\n",
      "  df = df.append(rows, ignore_index=True)\n"
     ]
    },
    {
     "data": {
      "text/html": [
       "<div>\n",
       "<style scoped>\n",
       "    .dataframe tbody tr th:only-of-type {\n",
       "        vertical-align: middle;\n",
       "    }\n",
       "\n",
       "    .dataframe tbody tr th {\n",
       "        vertical-align: top;\n",
       "    }\n",
       "\n",
       "    .dataframe thead th {\n",
       "        text-align: right;\n",
       "    }\n",
       "</style>\n",
       "<table border=\"1\" class=\"dataframe\">\n",
       "  <thead>\n",
       "    <tr style=\"text-align: right;\">\n",
       "      <th></th>\n",
       "      <th>age</th>\n",
       "      <th>workclass</th>\n",
       "      <th>fnlwgt</th>\n",
       "      <th>education</th>\n",
       "      <th>education.num</th>\n",
       "      <th>marital.status</th>\n",
       "      <th>occupation</th>\n",
       "      <th>relationship</th>\n",
       "      <th>race</th>\n",
       "      <th>sex</th>\n",
       "      <th>...</th>\n",
       "      <th>hours.per.week</th>\n",
       "      <th>native.country</th>\n",
       "      <th>income</th>\n",
       "      <th>education-num</th>\n",
       "      <th>marital-status</th>\n",
       "      <th>capital-gain</th>\n",
       "      <th>capital-loss</th>\n",
       "      <th>hours-per-week</th>\n",
       "      <th>native-country</th>\n",
       "      <th>label</th>\n",
       "    </tr>\n",
       "  </thead>\n",
       "  <tbody>\n",
       "    <tr>\n",
       "      <th>6513</th>\n",
       "      <td>46</td>\n",
       "      <td>NaN</td>\n",
       "      <td>257473</td>\n",
       "      <td>Bachelors</td>\n",
       "      <td>NaN</td>\n",
       "      <td>NaN</td>\n",
       "      <td>Plumber</td>\n",
       "      <td>Husband</td>\n",
       "      <td>Other</td>\n",
       "      <td>Male</td>\n",
       "      <td>...</td>\n",
       "      <td>NaN</td>\n",
       "      <td>NaN</td>\n",
       "      <td>NaN</td>\n",
       "      <td>8.0</td>\n",
       "      <td>Married-civ-spouse</td>\n",
       "      <td>1000.0</td>\n",
       "      <td>0.0</td>\n",
       "      <td>41.0</td>\n",
       "      <td>Australia</td>\n",
       "      <td>&gt;50K</td>\n",
       "    </tr>\n",
       "    <tr>\n",
       "      <th>6514</th>\n",
       "      <td>0</td>\n",
       "      <td>Private</td>\n",
       "      <td>257473</td>\n",
       "      <td>Masters</td>\n",
       "      <td>NaN</td>\n",
       "      <td>NaN</td>\n",
       "      <td>Adm-clerical</td>\n",
       "      <td>Wife</td>\n",
       "      <td>Asian</td>\n",
       "      <td>Female</td>\n",
       "      <td>...</td>\n",
       "      <td>NaN</td>\n",
       "      <td>NaN</td>\n",
       "      <td>NaN</td>\n",
       "      <td>8.0</td>\n",
       "      <td>Married-civ-spouse</td>\n",
       "      <td>0.0</td>\n",
       "      <td>0.0</td>\n",
       "      <td>40.0</td>\n",
       "      <td>Pakistan</td>\n",
       "      <td>&gt;50K</td>\n",
       "    </tr>\n",
       "    <tr>\n",
       "      <th>6515</th>\n",
       "      <td>1000</td>\n",
       "      <td>Private</td>\n",
       "      <td>257473</td>\n",
       "      <td>Masters</td>\n",
       "      <td>NaN</td>\n",
       "      <td>NaN</td>\n",
       "      <td>Prof-specialty</td>\n",
       "      <td>Husband</td>\n",
       "      <td>Black</td>\n",
       "      <td>Male</td>\n",
       "      <td>...</td>\n",
       "      <td>NaN</td>\n",
       "      <td>NaN</td>\n",
       "      <td>NaN</td>\n",
       "      <td>8.0</td>\n",
       "      <td>Married-civ-spouse</td>\n",
       "      <td>0.0</td>\n",
       "      <td>0.0</td>\n",
       "      <td>20.0</td>\n",
       "      <td>Cameroon</td>\n",
       "      <td>&lt;=50K</td>\n",
       "    </tr>\n",
       "    <tr>\n",
       "      <th>6516</th>\n",
       "      <td>25</td>\n",
       "      <td>?</td>\n",
       "      <td>257473</td>\n",
       "      <td>Masters</td>\n",
       "      <td>NaN</td>\n",
       "      <td>NaN</td>\n",
       "      <td>gamer</td>\n",
       "      <td>Husband</td>\n",
       "      <td>Asian</td>\n",
       "      <td>Female</td>\n",
       "      <td>...</td>\n",
       "      <td>NaN</td>\n",
       "      <td>NaN</td>\n",
       "      <td>NaN</td>\n",
       "      <td>8.0</td>\n",
       "      <td>Married-civ-spouse</td>\n",
       "      <td>0.0</td>\n",
       "      <td>0.0</td>\n",
       "      <td>50.0</td>\n",
       "      <td>Mongolia</td>\n",
       "      <td>&lt;=50K</td>\n",
       "    </tr>\n",
       "  </tbody>\n",
       "</table>\n",
       "<p>4 rows × 22 columns</p>\n",
       "</div>"
      ],
      "text/plain": [
       "       age workclass  fnlwgt  education  education.num marital.status  \\\n",
       "6513    46       NaN  257473  Bachelors            NaN            NaN   \n",
       "6514     0   Private  257473    Masters            NaN            NaN   \n",
       "6515  1000   Private  257473    Masters            NaN            NaN   \n",
       "6516    25         ?  257473    Masters            NaN            NaN   \n",
       "\n",
       "          occupation relationship   race     sex  ...  hours.per.week  \\\n",
       "6513         Plumber      Husband  Other    Male  ...             NaN   \n",
       "6514    Adm-clerical         Wife  Asian  Female  ...             NaN   \n",
       "6515  Prof-specialty      Husband  Black    Male  ...             NaN   \n",
       "6516           gamer      Husband  Asian  Female  ...             NaN   \n",
       "\n",
       "      native.country  income education-num      marital-status  capital-gain  \\\n",
       "6513             NaN     NaN           8.0  Married-civ-spouse        1000.0   \n",
       "6514             NaN     NaN           8.0  Married-civ-spouse           0.0   \n",
       "6515             NaN     NaN           8.0  Married-civ-spouse           0.0   \n",
       "6516             NaN     NaN           8.0  Married-civ-spouse           0.0   \n",
       "\n",
       "     capital-loss  hours-per-week  native-country  label  \n",
       "6513          0.0            41.0       Australia   >50K  \n",
       "6514          0.0            40.0        Pakistan   >50K  \n",
       "6515          0.0            20.0        Cameroon  <=50K  \n",
       "6516          0.0            50.0        Mongolia  <=50K  \n",
       "\n",
       "[4 rows x 22 columns]"
      ]
     },
     "execution_count": 6,
     "metadata": {},
     "output_type": "execute_result"
    }
   ],
   "source": [
    "# add extra rows\n",
    "eval_df = add_extra_rows(eval_df)\n",
    "\n",
    "# preview the added rows\n",
    "eval_df.tail(4)"
   ]
  },
  {
   "cell_type": "markdown",
   "metadata": {
    "id": "Duwwrsvf_9bK"
   },
   "source": [
    "## Generate and visualize training dataset statistics"
   ]
  },
  {
   "cell_type": "markdown",
   "metadata": {
    "id": "5Nm5E1HAgPU0"
   },
   "source": [
    "You can now compute and visualize the statistics of your training dataset. TFDV accepts three input formats: TensorFlow’s TFRecord, Pandas Dataframe, and CSV file. In this exercise, you will feed in the Pandas Dataframes you generated from the train-test split. \n",
    "\n",
    "You can compute your dataset statistics by using the [`generate_statistics_from_dataframe()`](https://www.tensorflow.org/tfx/data_validation/api_docs/python/tfdv/generate_statistics_from_dataframe) method. Under the hood, it distributes the analysis via [Apache Beam](https://beam.apache.org/) which allows it to scale over large datasets.\n",
    "\n",
    "The results returned by this step for numerical and categorical data are summarized in this table:\n",
    "\n",
    "| Numerical Data | Categorical Data   |\n",
    "|:-:|:-:|\n",
    "|Count of data records|Count of data records\n",
    "|% of missing data records|% of missing data records|\n",
    "|Mean, std, min, max|unique records|\n",
    "|% of zero values|Avg string length|\n"
   ]
  },
  {
   "cell_type": "code",
   "execution_count": 7,
   "metadata": {
    "id": "_vTx9Qkk4yGc"
   },
   "outputs": [],
   "source": [
    "# Generate training dataset statistics\n",
    "train_stats = tfdv.generate_statistics_from_dataframe(train_df)"
   ]
  },
  {
   "cell_type": "markdown",
   "metadata": {
    "id": "86nhDglwuilJ"
   },
   "source": [
    "Once you've generated the statistics, you can easily visualize your results with the [`visualize_statistics()`](https://www.tensorflow.org/tfx/data_validation/api_docs/python/tfdv/visualize_statistics) method. This shows a [Facets interface](https://pair-code.github.io/facets/) and is very useful to spot if you have a high amount of missing data or high standard deviation. Run the cell below and explore the different settings in the output interface (e.g. Sort by, Reverse order, Feature search)."
   ]
  },
  {
   "cell_type": "code",
   "execution_count": 8,
   "metadata": {
    "id": "1D1wP3mm5ebW"
   },
   "outputs": [
    {
     "data": {
      "text/html": [
       "<iframe id='facets-iframe' width=\"100%\" height=\"500px\"></iframe>\n",
       "        <script>\n",
       "        facets_iframe = document.getElementById('facets-iframe');\n",
       "        facets_html = '<script src=\"https://cdnjs.cloudflare.com/ajax/libs/webcomponentsjs/1.3.3/webcomponents-lite.js\"><\\/script><link rel=\"import\" href=\"https://raw.githubusercontent.com/PAIR-code/facets/master/facets-dist/facets-jupyter.html\"><facets-overview proto-input=\"CtNtCg5saHNfc3RhdGlzdGljcxDAywEavgcatAcKuAIIwMsBGAEgAS0AAIA/MqQCGhsJAAAAAAAA8D8RAAAAAAAA8D8hmpmZmZlZpEAaGwkAAAAAAADwPxEAAAAAAADwPyGamZmZmVmkQBobCQAAAAAAAPA/EQAAAAAAAPA/IZqZmZmZWaRAGhsJAAAAAAAA8D8RAAAAAAAA8D8hmpmZmZlZpEAaGwkAAAAAAADwPxEAAAAAAADwPyGamZmZmVmkQBobCQAAAAAAAPA/EQAAAAAAAPA/IZqZmZmZWaRAGhsJAAAAAAAA8D8RAAAAAAAA8D8hmpmZmZlZpEAaGwkAAAAAAADwPxEAAAAAAADwPyGamZmZmVmkQBobCQAAAAAAAPA/EQAAAAAAAPA/IZqZmZmZWaRAGhsJAAAAAAAA8D8RAAAAAAAA8D8hmpmZmZlZpEAgAUDAywERXXTRRRdlQ0AZuQgJrJVeK0ApAAAAAAAAMUAxAAAAAACAQkA5AAAAAACAVkBCogIaGwkAAAAAAAAxQBHNzMzMzEw4QCEa+IEfuBWxQBobCc3MzMzMTDhAEZqZmZmZmT9AIbHWdTQrHrJAGhsJmpmZmZmZP0ARMzMzMzNzQ0AhWGQ73w/hskAaGwkzMzMzM3NDQBGamZmZmRlHQCEUKNpqMHazQBobCZqZmZmZGUdAEQAAAAAAwEpAIWcONLB9J6lAGhsJAAAAAADASkARZmZmZmZmTkAh4Ad+4AeUoEAaGwlmZmZmZmZOQBFmZmZmZgZRQCHPzMzMzJWTQBobCWZmZmZmBlFAEZqZmZmZ2VJAIZ2ZmZmZXXpAGhsJmpmZmZnZUkARzczMzMysVEAhyszMzMysYkAaGwnNzMzMzKxUQBEAAAAAAIBWQCEwMzMzMzNLQEKkAhobCQAAAAAAADFAEQAAAAAAADZAIQAAAAAAxqdAGhsJAAAAAAAANkARAAAAAAAAOkAhAAAAAABSpEAaGwkAAAAAAAA6QBEAAAAAAAA+QCEAAAAAAKykQBobCQAAAAAAAD5AEQAAAAAAAEFAIQAAAAAAmqVAGhsJAAAAAAAAQUARAAAAAACAQkAhAAAAAACMoEAaGwkAAAAAAIBCQBEAAAAAAIBEQCEAAAAAAGakQBobCQAAAAAAgERAEQAAAAAAAEdAIQAAAAAAvKdAGhsJAAAAAAAAR0ARAAAAAACASUAhAAAAAAAQo0AaGwkAAAAAAIBJQBEAAAAAAABNQCEAAAAAAGiiQBobCQAAAAAAAE1AEQAAAAAAgFZAIQAAAAAA/KJAIAFCBQoDYWdlGpEGEAIi/wUKuAIIwMsBGAEgAS0AAIA/MqQCGhsJAAAAAAAA8D8RAAAAAAAA8D8hmpmZmZlZpEAaGwkAAAAAAADwPxEAAAAAAADwPyGamZmZmVmkQBobCQAAAAAAAPA/EQAAAAAAAPA/IZqZmZmZWaRAGhsJAAAAAAAA8D8RAAAAAAAA8D8hmpmZmZlZpEAaGwkAAAAAAADwPxEAAAAAAADwPyGamZmZmVmkQBobCQAAAAAAAPA/EQAAAAAAAPA/IZqZmZmZWaRAGhsJAAAAAAAA8D8RAAAAAAAA8D8hmpmZmZlZpEAaGwkAAAAAAADwPxEAAAAAAADwPyGamZmZmVmkQBobCQAAAAAAAPA/EQAAAAAAAPA/IZqZmZmZWaRAGhsJAAAAAAAA8D8RAAAAAAAA8D8hmpmZmZlZpEAgAUDAywEQCRoSEgdQcml2YXRlGQAAAACAp9FAGhsSEFNlbGYtZW1wLW5vdC1pbmMZAAAAAAAyoEAaFBIJTG9jYWwtZ292GQAAAAAAkJpAGgwSAT8ZAAAAAACIlkAaFBIJU3RhdGUtZ292GQAAAAAAFJBAGhcSDFNlbGYtZW1wLWluYxkAAAAAAPCMQBoWEgtGZWRlcmFsLWdvdhkAAAAAAJCIQBoWEgtXaXRob3V0LXBheRkAAAAAAAAiQBoXEgxOZXZlci13b3JrZWQZAAAAAAAAFEAlI5/8QCrtAQoSIgdQcml2YXRlKQAAAACAp9FACh8IARABIhBTZWxmLWVtcC1ub3QtaW5jKQAAAAAAMqBAChgIAhACIglMb2NhbC1nb3YpAAAAAACQmkAKEAgDEAMiAT8pAAAAAACIlkAKGAgEEAQiCVN0YXRlLWdvdikAAAAAABSQQAobCAUQBSIMU2VsZi1lbXAtaW5jKQAAAAAA8IxAChoIBhAGIgtGZWRlcmFsLWdvdikAAAAAAJCIQAoaCAcQByILV2l0aG91dC1wYXkpAAAAAAAAIkAKGwgIEAgiDE5ldmVyLXdvcmtlZCkAAAAAAAAUQEILCgl3b3JrY2xhc3MawQcatAcKuAIIwMsBGAEgAS0AAIA/MqQCGhsJAAAAAAAA8D8RAAAAAAAA8D8hmpmZmZlZpEAaGwkAAAAAAADwPxEAAAAAAADwPyGamZmZmVmkQBobCQAAAAAAAPA/EQAAAAAAAPA/IZqZmZmZWaRAGhsJAAAAAAAA8D8RAAAAAAAA8D8hmpmZmZlZpEAaGwkAAAAAAADwPxEAAAAAAADwPyGamZmZmVmkQBobCQAAAAAAAPA/EQAAAAAAAPA/IZqZmZmZWaRAGhsJAAAAAAAA8D8RAAAAAAAA8D8hmpmZmZlZpEAaGwkAAAAAAADwPxEAAAAAAADwPyGamZmZmVmkQBobCQAAAAAAAPA/EQAAAAAAAPA/IZqZmZmZWaRAGhsJAAAAAAAA8D8RAAAAAAAA8D8hmpmZmZlZpEAgAUDAywERPusGE3UkB0EZ+Y+kbXqm+UApAAAAAID+x0AxAAAAAMC+BUE5AAAAAKGnNkFCogIaGwkAAAAAgP7HQBEAAAAAOHkDQSE+jbDcU4zEQBobCQAAAAA4eQNBEQAAAABEuRJBIab1EZ2c7sdAGhsJAAAAAES5EkERAAAAAOy1G0EhrkMWNHvjpUAaGwkAAAAA7LUbQREAAAAASlkiQSHAm3Q/wKd2QBobCQAAAABKWSJBEQAAAACe1yZBIWmQlvFBqlRAGhsJAAAAAJ7XJkERAAAAAPJVK0EhecST4tx4FkAaGwkAAAAA8lUrQREAAAAARtQvQSGKcY95L54VQBobCQAAAABG1C9BEQAAAABNKTJBIYpxj3kvnhVAGhsJAAAAAE0pMkERAAAAAHdoNEEhinGPeS+eFUAaGwkAAAAAd2g0QREAAAAAoac2QSGKcY95L54VQEKkAhobCQAAAACA/sdAEQAAAADAOfBAIQAAAAAAWqRAGhsJAAAAAMA58EARAAAAAEAZ+kAhAAAAAABYpEAaGwkAAAAAQBn6QBEAAAAAEPL/QCEAAAAAAFikQBobCQAAAAAQ8v9AEQAAAAAwVwNBIQAAAAAAZqRAGhsJAAAAADBXA0ERAAAAAMC+BUEhAAAAAABSpEAaGwkAAAAAwL4FQREAAAAA6O0HQSEAAAAAAFakQBobCQAAAADo7QdBEQAAAACwxQpBIQAAAAAAXqRAGhsJAAAAALDFCkERAAAAAGCuD0EhAAAAAABcpEAaGwkAAAAAYK4PQREAAAAAIBEUQSEAAAAAAFCkQBobCQAAAAAgERRBEQAAAAChpzZBIQAAAAAAXqRAIAFCCAoGZm5sd2d0GqEIEAIijwgKuAIIwMsBGAEgAS0AAIA/MqQCGhsJAAAAAAAA8D8RAAAAAAAA8D8hmpmZmZlZpEAaGwkAAAAAAADwPxEAAAAAAADwPyGamZmZmVmkQBobCQAAAAAAAPA/EQAAAAAAAPA/IZqZmZmZWaRAGhsJAAAAAAAA8D8RAAAAAAAA8D8hmpmZmZlZpEAaGwkAAAAAAADwPxEAAAAAAADwPyGamZmZmVmkQBobCQAAAAAAAPA/EQAAAAAAAPA/IZqZmZmZWaRAGhsJAAAAAAAA8D8RAAAAAAAA8D8hmpmZmZlZpEAaGwkAAAAAAADwPxEAAAAAAADwPyGamZmZmVmkQBobCQAAAAAAAPA/EQAAAAAAAPA/IZqZmZmZWaRAGhsJAAAAAAAA8D8RAAAAAAAA8D8hmpmZmZlZpEAgAUDAywEQEBoSEgdIUy1ncmFkGQAAAACAW8BAGhcSDFNvbWUtY29sbGVnZRkAAAAAAKi2QBoUEglCYWNoZWxvcnMZAAAAAAAgsUAaEhIHTWFzdGVycxkAAAAAAACWQBoUEglBc3NvYy12b2MZAAAAAABEkUAaDxIEMTF0aBkAAAAAAAiNQBoVEgpBc3NvYy1hY2RtGQAAAAAAEIpAGg8SBDEwdGgZAAAAAAD4hkAaEhIHN3RoLTh0aBkAAAAAAKB/QBoWEgtQcm9mLXNjaG9vbBkAAAAAADB+QBoOEgM5dGgZAAAAAABQeUAaFBIJRG9jdG9yYXRlGQAAAAAAYHVAGg8SBDEydGgZAAAAAACQdEAaEhIHNXRoLTZ0aBkAAAAAAGBvQBoSEgcxc3QtNHRoGQAAAAAAQF9AGhQSCVByZXNjaG9vbBkAAAAAAIBCQCX4EwdBKoMDChIiB0hTLWdyYWQpAAAAAIBbwEAKGwgBEAEiDFNvbWUtY29sbGVnZSkAAAAAAKi2QAoYCAIQAiIJQmFjaGVsb3JzKQAAAAAAILFAChYIAxADIgdNYXN0ZXJzKQAAAAAAAJZAChgIBBAEIglBc3NvYy12b2MpAAAAAABEkUAKEwgFEAUiBDExdGgpAAAAAAAIjUAKGQgGEAYiCkFzc29jLWFjZG0pAAAAAAAQikAKEwgHEAciBDEwdGgpAAAAAAD4hkAKFggIEAgiBzd0aC04dGgpAAAAAACgf0AKGggJEAkiC1Byb2Ytc2Nob29sKQAAAAAAMH5AChIIChAKIgM5dGgpAAAAAABQeUAKGAgLEAsiCURvY3RvcmF0ZSkAAAAAAGB1QAoTCAwQDCIEMTJ0aCkAAAAAAJB0QAoWCA0QDSIHNXRoLTZ0aCkAAAAAAGBvQAoWCA4QDiIHMXN0LTR0aCkAAAAAAEBfQAoYCA8QDyIJUHJlc2Nob29sKQAAAAAAgEJAQgsKCWVkdWNhdGlvbhrIBxq0Bwq4AgjAywEYASABLQAAgD8ypAIaGwkAAAAAAADwPxEAAAAAAADwPyGamZmZmVmkQBobCQAAAAAAAPA/EQAAAAAAAPA/IZqZmZmZWaRAGhsJAAAAAAAA8D8RAAAAAAAA8D8hmpmZmZlZpEAaGwkAAAAAAADwPxEAAAAAAADwPyGamZmZmVmkQBobCQAAAAAAAPA/EQAAAAAAAPA/IZqZmZmZWaRAGhsJAAAAAAAA8D8RAAAAAAAA8D8hmpmZmZlZpEAaGwkAAAAAAADwPxEAAAAAAADwPyGamZmZmVmkQBobCQAAAAAAAPA/EQAAAAAAAPA/IZqZmZmZWaRAGhsJAAAAAAAA8D8RAAAAAAAA8D8hmpmZmZlZpEAaGwkAAAAAAADwPxEAAAAAAADwPyGamZmZmVmkQCABQMDLARFT5LNuMD0kQBnbSx03+4wEQCkAAAAAAADwPzEAAAAAAAAkQDkAAAAAAAAwQEKiAhobCQAAAAAAAPA/EQAAAAAAAARAIeQ4juM4/mVAGhsJAAAAAAAABEARAAAAAAAAEEAhxHEcx3E4h0AaGwkAAAAAAAAQQBEAAAAAAAAWQCEjLPc0whp6QBobCQAAAAAAABZAEQAAAAAAABxAIf80wnJPzZlAGhsJAAAAAAAAHEARAAAAAAAAIUAhTCKVBblgdUAaGwkAAAAAAAAhQBEAAAAAAAAkQCHNVtM3+qjLQBobCQAAAAAAACRAEQAAAAAAACdAIQMAAAAgeJFAGhsJAAAAAAAAJ0ARAAAAAAAAKkAhAwAAAPhUtEAaGwkAAAAAAAAqQBEAAAAAAAAtQCGqqqqqqjWWQBobCQAAAAAAAC1AEQAAAAAAADBAIauqqqqqXIlAQqQCGhsJAAAAAAAA8D8RAAAAAAAAHEAhAAAAAABYp0AaGwkAAAAAAAAcQBEAAAAAAAAiQCGrqqqqqqqmQBobCQAAAAAAACJAEQAAAAAAACJAIauqqqqqqqZAGhsJAAAAAAAAIkARAAAAAAAAIkAhq6qqqqqqpkAaGwkAAAAAAAAiQBEAAAAAAAAkQCEAAAAAAKimQBobCQAAAAAAACRAEQAAAAAAACRAIQAAAAAAqKZAGhsJAAAAAAAAJEARAAAAAAAAJkAhAAAAAABEkUAaGwkAAAAAAAAmQBEAAAAAAAAqQCEAAAAAAGKkQBobCQAAAAAAACpAEQAAAAAAACpAIQAAAAAAYqRAGhsJAAAAAAAAKkARAAAAAAAAMEAhAAAAAAByoUAgAUIPCg1lZHVjYXRpb24ubnVtGuQFEAIizQUKuAIIwMsBGAEgAS0AAIA/MqQCGhsJAAAAAAAA8D8RAAAAAAAA8D8hmpmZmZlZpEAaGwkAAAAAAADwPxEAAAAAAADwPyGamZmZmVmkQBobCQAAAAAAAPA/EQAAAAAAAPA/IZqZmZmZWaRAGhsJAAAAAAAA8D8RAAAAAAAA8D8hmpmZmZlZpEAaGwkAAAAAAADwPxEAAAAAAADwPyGamZmZmVmkQBobCQAAAAAAAPA/EQAAAAAAAPA/IZqZmZmZWaRAGhsJAAAAAAAA8D8RAAAAAAAA8D8hmpmZmZlZpEAaGwkAAAAAAADwPxEAAAAAAADwPyGamZmZmVmkQBobCQAAAAAAAPA/EQAAAAAAAPA/IZqZmZmZWaRAGhsJAAAAAAAA8D8RAAAAAAAA8D8hmpmZmZlZpEAgAUDAywEQBxodEhJNYXJyaWVkLWNpdi1zcG91c2UZAAAAAAC2x0AaGBINTmV2ZXItbWFycmllZBkAAAAAAG7AQBoTEghEaXZvcmNlZBkAAAAAAJqrQBoUEglTZXBhcmF0ZWQZAAAAAABoiUAaEhIHV2lkb3dlZBkAAAAAAOiIQBogEhVNYXJyaWVkLXNwb3VzZS1hYnNlbnQZAAAAAAAAdUAaHBIRTWFycmllZC1BRi1zcG91c2UZAAAAAAAAMUAlODFnQSrQAQodIhJNYXJyaWVkLWNpdi1zcG91c2UpAAAAAAC2x0AKHAgBEAEiDU5ldmVyLW1hcnJpZWQpAAAAAABuwEAKFwgCEAIiCERpdm9yY2VkKQAAAAAAmqtAChgIAxADIglTZXBhcmF0ZWQpAAAAAABoiUAKFggEEAQiB1dpZG93ZWQpAAAAAADoiEAKJAgFEAUiFU1hcnJpZWQtc3BvdXNlLWFic2VudCkAAAAAAAB1QAogCAYQBiIRTWFycmllZC1BRi1zcG91c2UpAAAAAAAAMUBCEAoObWFyaXRhbC5zdGF0dXMalAkQAiKBCQq4AgjAywEYASABLQAAgD8ypAIaGwkAAAAAAADwPxEAAAAAAADwPyGamZmZmVmkQBobCQAAAAAAAPA/EQAAAAAAAPA/IZqZmZmZWaRAGhsJAAAAAAAA8D8RAAAAAAAA8D8hmpmZmZlZpEAaGwkAAAAAAADwPxEAAAAAAADwPyGamZmZmVmkQBobCQAAAAAAAPA/EQAAAAAAAPA/IZqZmZmZWaRAGhsJAAAAAAAA8D8RAAAAAAAA8D8hmpmZmZlZpEAaGwkAAAAAAADwPxEAAAAAAADwPyGamZmZmVmkQBobCQAAAAAAAPA/EQAAAAAAAPA/IZqZmZmZWaRAGhsJAAAAAAAA8D8RAAAAAAAA8D8hmpmZmZlZpEAaGwkAAAAAAADwPxEAAAAAAADwPyGamZmZmVmkQCABQMDLARAPGhkSDlByb2Ytc3BlY2lhbHR5GQAAAAAAhqpAGhoSD0V4ZWMtbWFuYWdlcmlhbBkAAAAAALSpQBoXEgxDcmFmdC1yZXBhaXIZAAAAAABiqUAaFxIMQWRtLWNsZXJpY2FsGQAAAAAA0KdAGhASBVNhbGVzGQAAAAAAAqdAGhgSDU90aGVyLXNlcnZpY2UZAAAAAABMpEAaHBIRTWFjaGluZS1vcC1pbnNwY3QZAAAAAACsmEAaDBIBPxkAAAAAAJyWQBobEhBUcmFuc3BvcnQtbW92aW5nGQAAAAAACJRAGhwSEUhhbmRsZXJzLWNsZWFuZXJzGQAAAAAAIJBAGhoSD0Zhcm1pbmctZmlzaGluZxkAAAAAALCIQBoXEgxUZWNoLXN1cHBvcnQZAAAAAAAAh0AaGhIPUHJvdGVjdGl2ZS1zZXJ2GQAAAAAAaIBAGhoSD1ByaXYtaG91c2Utc2VydhkAAAAAAABfQBoXEgxBcm1lZC1Gb3JjZXMZAAAAAAAAIEAlxzVDQSq6AwoZIg5Qcm9mLXNwZWNpYWx0eSkAAAAAAIaqQAoeCAEQASIPRXhlYy1tYW5hZ2VyaWFsKQAAAAAAtKlAChsIAhACIgxDcmFmdC1yZXBhaXIpAAAAAABiqUAKGwgDEAMiDEFkbS1jbGVyaWNhbCkAAAAAANCnQAoUCAQQBCIFU2FsZXMpAAAAAAACp0AKHAgFEAUiDU90aGVyLXNlcnZpY2UpAAAAAABMpEAKIAgGEAYiEU1hY2hpbmUtb3AtaW5zcGN0KQAAAAAArJhAChAIBxAHIgE/KQAAAAAAnJZACh8ICBAIIhBUcmFuc3BvcnQtbW92aW5nKQAAAAAACJRACiAICRAJIhFIYW5kbGVycy1jbGVhbmVycykAAAAAACCQQAoeCAoQCiIPRmFybWluZy1maXNoaW5nKQAAAAAAsIhAChsICxALIgxUZWNoLXN1cHBvcnQpAAAAAAAAh0AKHggMEAwiD1Byb3RlY3RpdmUtc2VydikAAAAAAGiAQAoeCA0QDSIPUHJpdi1ob3VzZS1zZXJ2KQAAAAAAAF9AChsIDhAOIgxBcm1lZC1Gb3JjZXMpAAAAAAAAIEBCDAoKb2NjdXBhdGlvbhr6BBACIuUECrgCCMDLARgBIAEtAACAPzKkAhobCQAAAAAAAPA/EQAAAAAAAPA/IZqZmZmZWaRAGhsJAAAAAAAA8D8RAAAAAAAA8D8hmpmZmZlZpEAaGwkAAAAAAADwPxEAAAAAAADwPyGamZmZmVmkQBobCQAAAAAAAPA/EQAAAAAAAPA/IZqZmZmZWaRAGhsJAAAAAAAA8D8RAAAAAAAA8D8hmpmZmZlZpEAaGwkAAAAAAADwPxEAAAAAAADwPyGamZmZmVmkQBobCQAAAAAAAPA/EQAAAAAAAPA/IZqZmZmZWaRAGhsJAAAAAAAA8D8RAAAAAAAA8D8hmpmZmZlZpEAaGwkAAAAAAADwPxEAAAAAAADwPyGamZmZmVmkQBobCQAAAAAAAPA/EQAAAAAAAPA/IZqZmZmZWaRAIAFAwMsBEAYaEhIHSHVzYmFuZBkAAAAAgNzEQBoYEg1Ob3QtaW4tZmFtaWx5GQAAAAAA7LlAGhQSCU93bi1jaGlsZBkAAAAAACKvQBoUEglVbm1hcnJpZWQZAAAAAAAspUAaDxIEV2lmZRkAAAAAABiUQBoZEg5PdGhlci1yZWxhdGl2ZRkAAAAAAHCHQCVviRFBKpoBChIiB0h1c2JhbmQpAAAAAIDcxEAKHAgBEAEiDU5vdC1pbi1mYW1pbHkpAAAAAADsuUAKGAgCEAIiCU93bi1jaGlsZCkAAAAAACKvQAoYCAMQAyIJVW5tYXJyaWVkKQAAAAAALKVAChMIBBAEIgRXaWZlKQAAAAAAGJRACh0IBRAFIg5PdGhlci1yZWxhdGl2ZSkAAAAAAHCHQEIOCgxyZWxhdGlvbnNoaXAaygQQAiK9BAq4AgjAywEYASABLQAAgD8ypAIaGwkAAAAAAADwPxEAAAAAAADwPyGamZmZmVmkQBobCQAAAAAAAPA/EQAAAAAAAPA/IZqZmZmZWaRAGhsJAAAAAAAA8D8RAAAAAAAA8D8hmpmZmZlZpEAaGwkAAAAAAADwPxEAAAAAAADwPyGamZmZmVmkQBobCQAAAAAAAPA/EQAAAAAAAPA/IZqZmZmZWaRAGhsJAAAAAAAA8D8RAAAAAAAA8D8hmpmZmZlZpEAaGwkAAAAAAADwPxEAAAAAAADwPyGamZmZmVmkQBobCQAAAAAAAPA/EQAAAAAAAPA/IZqZmZmZWaRAGhsJAAAAAAAA8D8RAAAAAAAA8D8hmpmZmZlZpEAaGwkAAAAAAADwPxEAAAAAAADwPyGamZmZmVmkQCABQMDLARAFGhASBVdoaXRlGQAAAAAAy9VAGhASBUJsYWNrGQAAAAAALqNAGh0SEkFzaWFuLVBhYy1Jc2xhbmRlchkAAAAAADiJQBodEhJBbWVyLUluZGlhbi1Fc2tpbW8ZAAAAAAAAb0AaEBIFT3RoZXIZAAAAAADAa0AlUdmwQCqEAQoQIgVXaGl0ZSkAAAAAAMvVQAoUCAEQASIFQmxhY2spAAAAAAAuo0AKIQgCEAIiEkFzaWFuLVBhYy1Jc2xhbmRlcikAAAAAADiJQAohCAMQAyISQW1lci1JbmRpYW4tRXNraW1vKQAAAAAAAG9AChQIBBAEIgVPdGhlcikAAAAAAMBrQEIGCgRyYWNlGpwDEAIikAMKuAIIwMsBGAEgAS0AAIA/MqQCGhsJAAAAAAAA8D8RAAAAAAAA8D8hmpmZmZlZpEAaGwkAAAAAAADwPxEAAAAAAADwPyGamZmZmVmkQBobCQAAAAAAAPA/EQAAAAAAAPA/IZqZmZmZWaRAGhsJAAAAAAAA8D8RAAAAAAAA8D8hmpmZmZlZpEAaGwkAAAAAAADwPxEAAAAAAADwPyGamZmZmVmkQBobCQAAAAAAAPA/EQAAAAAAAPA/IZqZmZmZWaRAGhsJAAAAAAAA8D8RAAAAAAAA8D8hmpmZmZlZpEAaGwkAAAAAAADwPxEAAAAAAADwPyGamZmZmVmkQBobCQAAAAAAAPA/EQAAAAAAAPA/IZqZmZmZWaRAGhsJAAAAAAAA8D8RAAAAAAAA8D8hmpmZmZlZpEAgAUDAywEQAhoPEgRNYWxlGQAAAADAG9FAGhESBkZlbWFsZRkAAAAAgKjAQCWu9JRAKigKDyIETWFsZSkAAAAAwBvRQAoVCAEQASIGRmVtYWxlKQAAAACAqMBAQgUKA3NleBqXBhqEBgq4AgjAywEYASABLQAAgD8ypAIaGwkAAAAAAADwPxEAAAAAAADwPyGamZmZmVmkQBobCQAAAAAAAPA/EQAAAAAAAPA/IZqZmZmZWaRAGhsJAAAAAAAA8D8RAAAAAAAA8D8hmpmZmZlZpEAaGwkAAAAAAADwPxEAAAAAAADwPyGamZmZmVmkQBobCQAAAAAAAPA/EQAAAAAAAPA/IZqZmZmZWaRAGhsJAAAAAAAA8D8RAAAAAAAA8D8hmpmZmZlZpEAaGwkAAAAAAADwPxEAAAAAAADwPyGamZmZmVmkQBobCQAAAAAAAPA/EQAAAAAAAPA/IZqZmZmZWaRAGhsJAAAAAAAA8D8RAAAAAAAA8D8hmpmZmZlZpEAaGwkAAAAAAADwPxEAAAAAAADwPyGamZmZmVmkQCABQMDLARHw9W/iaAyVQBlVASO/fxXAQCCotgE5AAAAAPBp+EBCmQIaEhEzMzMz84fDQCGcBNUzrrHYQBobCTMzMzPzh8NAETMzMzPzh9NAIfVKNnVwBoFAGhsJMzMzM/OH00ARzMzMzOxL3UAhyxJR1+eXSUAaGwnMzMzM7EvdQBEzMzMz84fjQCF+4EHgWEkKQBobCTMzMzPzh+NAEQAAAADwaehAIX7gQeBYSQpAGhsJAAAAAPBp6EARzMzMzOxL7UAheuBB4FhJCkAaGwnMzMzM7EvtQBHNzMzM9BbxQCGE4EHgWEkKQBobCc3MzMz0FvFAETMzMzPzh/NAIXrgQeBYSQpAGhsJMzMzM/OH80ARmZmZmfH49UAheuBB4FhJCkAaGwmZmZmZ8fj1QBEAAAAA8Gn4QCEVLMr1STJiQEKLARoJIQAAAAAAyqZAGgkhAAAAAADKpkAaCSEAAAAAAMqmQBoJIQAAAAAAyqZAGgkhAAAAAADKpkAaCSEAAAAAAMqmQBoJIQAAAAAAyqZAGgkhAAAAAADKpkAaEhEAAAAAAPyWQCEAAAAAAIBcQBobCQAAAAAA/JZAEQAAAADwafhAIQAAAAAATKRAIAFCDgoMY2FwaXRhbC5nYWluGoQGGvEFCrgCCMDLARgBIAEtAACAPzKkAhobCQAAAAAAAPA/EQAAAAAAAPA/IZqZmZmZWaRAGhsJAAAAAAAA8D8RAAAAAAAA8D8hmpmZmZlZpEAaGwkAAAAAAADwPxEAAAAAAADwPyGamZmZmVmkQBobCQAAAAAAAPA/EQAAAAAAAPA/IZqZmZmZWaRAGhsJAAAAAAAA8D8RAAAAAAAA8D8hmpmZmZlZpEAaGwkAAAAAAADwPxEAAAAAAADwPyGamZmZmVmkQBobCQAAAAAAAPA/EQAAAAAAAPA/IZqZmZmZWaRAGhsJAAAAAAAA8D8RAAAAAAAA8D8hmpmZmZlZpEAaGwkAAAAAAADwPxEAAAAAAADwPyGamZmZmVmkQBobCQAAAAAAAPA/EQAAAAAAAPA/IZqZmZmZWaRAIAFAwMsBETEesFiFSFtAGbatI5/x/XtAING/ATkAAAAAAASxQEKZAhoSEZqZmZmZOXtAIRJfGdsv99dAGhsJmpmZmZk5e0ARmpmZmZk5i0Ah81k3mCKfM0AaGwmamZmZmTmLQBE0MzMzM2uUQCFIYmcNPcM6QBobCTQzMzMza5RAEZqZmZmZOZtAIVtOLB3BQ3xAGhsJmpmZmZk5m0ARAAAAAAAEoUAhS/ithN9uiEAaGwkAAAAAAAShQBE0MzMzM2ukQCF7hMmAOX1pQBobCTQzMzMza6RAEWdmZmZm0qdAIe30FoZl3BZAGhsJZ2ZmZmbSp0ARmpmZmZk5q0Ah7fQWhmXcFkAaGwmamZmZmTmrQBHNzMzMzKCuQCHt9BaGZdwWQBobCc3MzMzMoK5AEQAAAAAABLFAIe30FoZl3BZAQnkaCSGO4ziO40qlQBoJIY7jOI7jSqVAGgkhjuM4juNKpUAaCSGO4ziO40qlQBoJIY7jOI7jSqVAGgkhjuM4juNKpUAaCSGO4ziO40qlQBoJIY7jOI7jSqVAGgkhjuM4juNKpUAaEhEAAAAAAASxQCEAAAAAALyXQCABQg4KDGNhcGl0YWwubG9zcxrJBxq0Bwq4AgjAywEYASABLQAAgD8ypAIaGwkAAAAAAADwPxEAAAAAAADwPyGamZmZmVmkQBobCQAAAAAAAPA/EQAAAAAAAPA/IZqZmZmZWaRAGhsJAAAAAAAA8D8RAAAAAAAA8D8hmpmZmZlZpEAaGwkAAAAAAADwPxEAAAAAAADwPyGamZmZmVmkQBobCQAAAAAAAPA/EQAAAAAAAPA/IZqZmZmZWaRAGhsJAAAAAAAA8D8RAAAAAAAA8D8hmpmZmZlZpEAaGwkAAAAAAADwPxEAAAAAAADwPyGamZmZmVmkQBobCQAAAAAAAPA/EQAAAAAAAPA/IZqZmZmZWaRAGhsJAAAAAAAA8D8RAAAAAAAA8D8hmpmZmZlZpEAaGwkAAAAAAADwPxEAAAAAAADwPyGamZmZmVmkQCABQMDLARGCdw5/OkNEQBlp3TTZ45goQCkAAAAAAADwPzEAAAAAAABEQDkAAAAAAMBYQEKiAhobCQAAAAAAAPA/EZqZmZmZmSVAIZmZmZmZWYJAGhsJmpmZmZmZJUARmpmZmZmZNEAhxszMzMwom0AaGwmamZmZmZk0QBFnZmZmZmY+QCH5/////2qcQBobCWdmZmZmZj5AEZqZmZmZGURAIV1mZmYGpctAGhsJmpmZmZkZREARAAAAAAAASUAhzszMzMy4skAaGwkAAAAAAABJQBFnZmZmZuZNQCGyjjcnlPyKQBobCWdmZmZm5k1AEWdmZmZmZlFAIdtrlx/pUJdAGhsJZ2ZmZmZmUUARmpmZmZnZU0Ah6lG4HoXrdUAaGwmamZmZmdlTQBHNzMzMzExWQCEoXI/C9UhkQBobCc3MzMzMTFZAEQAAAAAAwFhAIczMzMzMDFZAQqQCGhsJAAAAAAAA8D8RAAAAAAAAOUAhAAAAAABUqEAaGwkAAAAAAAA5QBEAAAAAAIBBQCEAAAAAACSiQBobCQAAAAAAgEFAEQAAAAAAAERAIWZmZmZmFqRAGhsJAAAAAAAAREARAAAAAAAAREAhZmZmZmYWpEAaGwkAAAAAAABEQBEAAAAAAABEQCFmZmZmZhakQBobCQAAAAAAAERAEQAAAAAAAERAIWZmZmZmFqRAGhsJAAAAAAAAREARAAAAAAAAREAhZmZmZmYWpEAaGwkAAAAAAABEQBEAAAAAAABJQCEAAAAAAL+yQBobCQAAAAAAAElAEQAAAAAAgEtAIQAAAAAAmIZAGhsJAAAAAACAS0ARAAAAAADAWEAhAAAAAAB0oUAgAUIQCg5ob3Vycy5wZXIud2VlaxqKDhACIvMNCrgCCMDLARgBIAEtAACAPzKkAhobCQAAAAAAAPA/EQAAAAAAAPA/IZqZmZmZWaRAGhsJAAAAAAAA8D8RAAAAAAAA8D8hmpmZmZlZpEAaGwkAAAAAAADwPxEAAAAAAADwPyGamZmZmVmkQBobCQAAAAAAAPA/EQAAAAAAAPA/IZqZmZmZWaRAGhsJAAAAAAAA8D8RAAAAAAAA8D8hmpmZmZlZpEAaGwkAAAAAAADwPxEAAAAAAADwPyGamZmZmVmkQBobCQAAAAAAAPA/EQAAAAAAAPA/IZqZmZmZWaRAGhsJAAAAAAAA8D8RAAAAAAAA8D8hmpmZmZlZpEAaGwkAAAAAAADwPxEAAAAAAADwPyGamZmZmVmkQBobCQAAAAAAAPA/EQAAAAAAAPA/IZqZmZmZWaRAIAFAwMsBECoaGBINVW5pdGVkLVN0YXRlcxkAAAAAgNHWQBoREgZNZXhpY28ZAAAAAABQf0AaDBIBPxkAAAAAADB9QBoWEgtQaGlsaXBwaW5lcxkAAAAAAMBjQBoSEgdHZXJtYW55GQAAAAAAQFtAGhESBkNhbmFkYRkAAAAAAEBZQBoWEgtQdWVydG8tUmljbxkAAAAAAEBYQBoWEgtFbC1TYWx2YWRvchkAAAAAAIBTQBoQEgVJbmRpYRkAAAAAAABTQBoSEgdFbmdsYW5kGQAAAAAAwFJAGg8SBEN1YmEZAAAAAADAUkAaEBIFU291dGgZAAAAAABAUEAaEBIFQ2hpbmEZAAAAAAAAT0AaEhIHSmFtYWljYRkAAAAAAIBOQBoQEgVJdGFseRkAAAAAAIBMQBodEhJEb21pbmljYW4tUmVwdWJsaWMZAAAAAAAAS0AaEhIHVmlldG5hbRkAAAAAAIBKQBoREgZQb2xhbmQZAAAAAACASkAaFBIJR3VhdGVtYWxhGQAAAAAAAEpAGhASBUphcGFuGQAAAAAAAElAJTTCREEqlQgKGCINVW5pdGVkLVN0YXRlcykAAAAAgNHWQAoVCAEQASIGTWV4aWNvKQAAAAAAUH9AChAIAhACIgE/KQAAAAAAMH1AChoIAxADIgtQaGlsaXBwaW5lcykAAAAAAMBjQAoWCAQQBCIHR2VybWFueSkAAAAAAEBbQAoVCAUQBSIGQ2FuYWRhKQAAAAAAQFlAChoIBhAGIgtQdWVydG8tUmljbykAAAAAAEBYQAoaCAcQByILRWwtU2FsdmFkb3IpAAAAAACAU0AKFAgIEAgiBUluZGlhKQAAAAAAAFNAChYICRAJIgdFbmdsYW5kKQAAAAAAwFJAChMIChAKIgRDdWJhKQAAAAAAwFJAChQICxALIgVTb3V0aCkAAAAAAEBQQAoUCAwQDCIFQ2hpbmEpAAAAAAAAT0AKFggNEA0iB0phbWFpY2EpAAAAAACATkAKFAgOEA4iBUl0YWx5KQAAAAAAgExACiEIDxAPIhJEb21pbmljYW4tUmVwdWJsaWMpAAAAAAAAS0AKFggQEBAiB1ZpZXRuYW0pAAAAAACASkAKFQgREBEiBlBvbGFuZCkAAAAAAIBKQAoYCBIQEiIJR3VhdGVtYWxhKQAAAAAAAEpAChQIExATIgVKYXBhbikAAAAAAABJQAoXCBQQFCIIQ29sdW1iaWEpAAAAAAAASEAKFQgVEBUiBlRhaXdhbikAAAAAAIBFQAoUCBYQFiIFSGFpdGkpAAAAAACAQ0AKEwgXEBciBElyYW4pAAAAAAAAQkAKFwgYEBgiCFBvcnR1Z2FsKQAAAAAAADxAChgIGRAZIglOaWNhcmFndWEpAAAAAAAAOUAKFQgaEBoiBkdyZWVjZSkAAAAAAAA4QAoTCBsQGyIEUGVydSkAAAAAAAA3QAoVCBwQHCIGRnJhbmNlKQAAAAAAADZAChYIHRAdIgdJcmVsYW5kKQAAAAAAADNAChYIHhAeIgdFY3VhZG9yKQAAAAAAADNAChcIHxAfIghDYW1ib2RpYSkAAAAAAAAwQAoXCCAQICIIVGhhaWxhbmQpAAAAAAAALkAKHgghECEiD1RyaW5hZGFkJlRvYmFnbykAAAAAAAAoQAoTCCIQIiIESG9uZykAAAAAAAAoQAoZCCMQIyIKWXVnb3NsYXZpYSkAAAAAAAAmQAoWCCQQJCIHSHVuZ2FyeSkAAAAAAAAmQAoXCCUQJSIIU2NvdGxhbmQpAAAAAAAAJEAKKQgmECYiGk91dGx5aW5nLVVTKEd1YW0tVVNWSS1ldGMpKQAAAAAAACBAChMIJxAnIgRMYW9zKQAAAAAAACBAChcIKBAoIghIb25kdXJhcykAAAAAAAAgQAohCCkQKSISSG9sYW5kLU5ldGhlcmxhbmRzKQAAAAAAAPA/QhAKDm5hdGl2ZS5jb3VudHJ5Gp0DEAIijgMKuAIIwMsBGAEgAS0AAIA/MqQCGhsJAAAAAAAA8D8RAAAAAAAA8D8hmpmZmZlZpEAaGwkAAAAAAADwPxEAAAAAAADwPyGamZmZmVmkQBobCQAAAAAAAPA/EQAAAAAAAPA/IZqZmZmZWaRAGhsJAAAAAAAA8D8RAAAAAAAA8D8hmpmZmZlZpEAaGwkAAAAAAADwPxEAAAAAAADwPyGamZmZmVmkQBobCQAAAAAAAPA/EQAAAAAAAPA/IZqZmZmZWaRAGhsJAAAAAAAA8D8RAAAAAAAA8D8hmpmZmZlZpEAaGwkAAAAAAADwPxEAAAAAAADwPyGamZmZmVmkQBobCQAAAAAAAPA/EQAAAAAAAPA/IZqZmZmZWaRAGhsJAAAAAAAA8D8RAAAAAAAA8D8hmpmZmZlZpEAgAUDAywEQAhoQEgU8PTUwSxkAAAAAwADTQBoPEgQ+NTBLGQAAAAAAvblAJcnnl0AqJwoQIgU8PTUwSykAAAAAwADTQAoTCAEQASIEPjUwSykAAAAAAL25QEIICgZpbmNvbWUaswcamwcKuAIIwMsBGAEgAS0AAIA/MqQCGhsJAAAAAAAA8D8RAAAAAAAA8D8hmpmZmZlZpEAaGwkAAAAAAADwPxEAAAAAAADwPyGamZmZmVmkQBobCQAAAAAAAPA/EQAAAAAAAPA/IZqZmZmZWaRAGhsJAAAAAAAA8D8RAAAAAAAA8D8hmpmZmZlZpEAaGwkAAAAAAADwPxEAAAAAAADwPyGamZmZmVmkQBobCQAAAAAAAPA/EQAAAAAAAPA/IZqZmZmZWaRAGhsJAAAAAAAA8D8RAAAAAAAA8D8hmpmZmZlZpEAaGwkAAAAAAADwPxEAAAAAAADwPyGamZmZmVmkQBobCQAAAAAAAPA/EQAAAAAAAPA/IZqZmZmZWaRAGhsJAAAAAAAA8D8RAAAAAAAA8D8hmpmZmZlZpEAgAUDAywERAAAAAMBvyUAZ7Ek772hfvUAgATEAAAAAAG/JQDkAAAAAwG/ZQEKZAhoSEWZmZmZmWaRAIWZmZmZmW6RAGhsJZmZmZmZZpEARZmZmZmZZtEAhZmZmZmZZpEAaGwlmZmZmZlm0QBGZmZmZGYa+QCFmZmZmZlmkQBobCZmZmZkZhr5AEWZmZmZmWcRAIWZmZmZmWaRAGhsJZmZmZmZZxEARAAAAAMBvyUAhaGZmZmZZpEAaGwkAAAAAwG/JQBGZmZmZGYbOQCFkZmZmZlmkQBobCZmZmZkZhs5AEZmZmZk5ztFAIWRmZmZmWaRAGhsJmZmZmTnO0UARZmZmZmZZ1EAhaGZmZmZZpEAaGwlmZmZmZlnUQBEzMzMzk+TWQCFoZmZmZlmkQBobCTMzMzOT5NZAEQAAAADAb9lAIWhmZmZmWaRAQpsCGhIRAAAAAABUpEAhAAAAAABWpEAaGwkAAAAAAFSkQBEAAAAAAFa0QCEAAAAAAFikQBobCQAAAAAAVrRAEQAAAAAAhr5AIQAAAAAAYKRAGhsJAAAAAACGvkARAAAAAABZxEAhAAAAAABYpEAaGwkAAAAAAFnEQBEAAAAAAG/JQCEAAAAAAFikQBobCQAAAAAAb8lAEQAAAAAAhc5AIQAAAAAAWKRAGhsJAAAAAACFzkARAAAAAIDN0UAhAAAAAABYpEAaGwkAAAAAgM3RQBEAAAAAgFnUQCEAAAAAAGCkQBobCQAAAACAWdRAEQAAAACA5NZAIQAAAAAAWKRAGhsJAAAAAIDk1kARAAAAAMBv2UAhAAAAAABapEAgAUITChFfX2luZGV4X2xldmVsXzBfXw==\"></facets-overview>';\n",
       "        facets_iframe.srcdoc = facets_html;\n",
       "         facets_iframe.id = \"\";\n",
       "         setTimeout(() => {\n",
       "           facets_iframe.setAttribute('height', facets_iframe.contentWindow.document.body.offsetHeight + 'px')\n",
       "         }, 1500)\n",
       "         </script>"
      ],
      "text/plain": [
       "<IPython.core.display.HTML object>"
      ]
     },
     "metadata": {},
     "output_type": "display_data"
    }
   ],
   "source": [
    "# Visualize training dataset statistics\n",
    "tfdv.visualize_statistics(train_stats)"
   ]
  },
  {
   "cell_type": "markdown",
   "metadata": {
    "id": "DVQTOBpdgPU0"
   },
   "source": [
    "## Infer data schema"
   ]
  },
  {
   "cell_type": "markdown",
   "metadata": {
    "id": "Ya6ecHE9gPU1"
   },
   "source": [
    "Next step is to create a data schema to describe your train set. Simply put, a schema describes standard characteristics of your data such as column data types and expected data value range. The schema is created on a dataset that you consider as reference, and can be reused to validate other incoming datasets.\n",
    "\n",
    "With the computed statistics, TFDV allows you to automatically generate an initial version of the schema using the [`infer_schema()`](https://www.tensorflow.org/tfx/data_validation/api_docs/python/tfdv/infer_schema) method. This returns a Schema [protocol buffer](https://developers.google.com/protocol-buffers) containing the result. As mentioned in the [TFX paper](http://stevenwhang.com/tfx_paper.pdf) (Section 3.3), the results of the schema inference can be summarized as follows:\n",
    "\n",
    "* The expected type of each feature.\n",
    "* The expected presence of each feature, in terms of a minimum count and fraction of examples that must contain\n",
    "the feature.\n",
    "* The expected valency of the feature in each example, i.e.,\n",
    "minimum and maximum number of values.\n",
    "* The expected domain of a feature, i.e., the small universe of\n",
    "values for a string feature, or range for an integer feature.\n",
    "\n",
    "Run the cell below to infer the training dataset schema."
   ]
  },
  {
   "cell_type": "code",
   "execution_count": 9,
   "metadata": {
    "id": "W9skjM-M44Jz"
   },
   "outputs": [
    {
     "data": {
      "text/html": [
       "<div>\n",
       "<style scoped>\n",
       "    .dataframe tbody tr th:only-of-type {\n",
       "        vertical-align: middle;\n",
       "    }\n",
       "\n",
       "    .dataframe tbody tr th {\n",
       "        vertical-align: top;\n",
       "    }\n",
       "\n",
       "    .dataframe thead th {\n",
       "        text-align: right;\n",
       "    }\n",
       "</style>\n",
       "<table border=\"1\" class=\"dataframe\">\n",
       "  <thead>\n",
       "    <tr style=\"text-align: right;\">\n",
       "      <th></th>\n",
       "      <th>Type</th>\n",
       "      <th>Presence</th>\n",
       "      <th>Valency</th>\n",
       "      <th>Domain</th>\n",
       "    </tr>\n",
       "    <tr>\n",
       "      <th>Feature name</th>\n",
       "      <th></th>\n",
       "      <th></th>\n",
       "      <th></th>\n",
       "      <th></th>\n",
       "    </tr>\n",
       "  </thead>\n",
       "  <tbody>\n",
       "    <tr>\n",
       "      <th>'age'</th>\n",
       "      <td>INT</td>\n",
       "      <td>required</td>\n",
       "      <td></td>\n",
       "      <td>-</td>\n",
       "    </tr>\n",
       "    <tr>\n",
       "      <th>'workclass'</th>\n",
       "      <td>STRING</td>\n",
       "      <td>required</td>\n",
       "      <td></td>\n",
       "      <td>'workclass'</td>\n",
       "    </tr>\n",
       "    <tr>\n",
       "      <th>'fnlwgt'</th>\n",
       "      <td>INT</td>\n",
       "      <td>required</td>\n",
       "      <td></td>\n",
       "      <td>-</td>\n",
       "    </tr>\n",
       "    <tr>\n",
       "      <th>'education'</th>\n",
       "      <td>STRING</td>\n",
       "      <td>required</td>\n",
       "      <td></td>\n",
       "      <td>'education'</td>\n",
       "    </tr>\n",
       "    <tr>\n",
       "      <th>'education.num'</th>\n",
       "      <td>INT</td>\n",
       "      <td>required</td>\n",
       "      <td></td>\n",
       "      <td>-</td>\n",
       "    </tr>\n",
       "    <tr>\n",
       "      <th>'marital.status'</th>\n",
       "      <td>STRING</td>\n",
       "      <td>required</td>\n",
       "      <td></td>\n",
       "      <td>'\\'marital.status\\''</td>\n",
       "    </tr>\n",
       "    <tr>\n",
       "      <th>'occupation'</th>\n",
       "      <td>STRING</td>\n",
       "      <td>required</td>\n",
       "      <td></td>\n",
       "      <td>'occupation'</td>\n",
       "    </tr>\n",
       "    <tr>\n",
       "      <th>'relationship'</th>\n",
       "      <td>STRING</td>\n",
       "      <td>required</td>\n",
       "      <td></td>\n",
       "      <td>'relationship'</td>\n",
       "    </tr>\n",
       "    <tr>\n",
       "      <th>'race'</th>\n",
       "      <td>STRING</td>\n",
       "      <td>required</td>\n",
       "      <td></td>\n",
       "      <td>'race'</td>\n",
       "    </tr>\n",
       "    <tr>\n",
       "      <th>'sex'</th>\n",
       "      <td>STRING</td>\n",
       "      <td>required</td>\n",
       "      <td></td>\n",
       "      <td>'sex'</td>\n",
       "    </tr>\n",
       "    <tr>\n",
       "      <th>'capital.gain'</th>\n",
       "      <td>INT</td>\n",
       "      <td>required</td>\n",
       "      <td></td>\n",
       "      <td>-</td>\n",
       "    </tr>\n",
       "    <tr>\n",
       "      <th>'capital.loss'</th>\n",
       "      <td>INT</td>\n",
       "      <td>required</td>\n",
       "      <td></td>\n",
       "      <td>-</td>\n",
       "    </tr>\n",
       "    <tr>\n",
       "      <th>'hours.per.week'</th>\n",
       "      <td>INT</td>\n",
       "      <td>required</td>\n",
       "      <td></td>\n",
       "      <td>-</td>\n",
       "    </tr>\n",
       "    <tr>\n",
       "      <th>'native.country'</th>\n",
       "      <td>STRING</td>\n",
       "      <td>required</td>\n",
       "      <td></td>\n",
       "      <td>'\\'native.country\\''</td>\n",
       "    </tr>\n",
       "    <tr>\n",
       "      <th>'income'</th>\n",
       "      <td>STRING</td>\n",
       "      <td>required</td>\n",
       "      <td></td>\n",
       "      <td>'income'</td>\n",
       "    </tr>\n",
       "    <tr>\n",
       "      <th>'__index_level_0__'</th>\n",
       "      <td>INT</td>\n",
       "      <td>required</td>\n",
       "      <td></td>\n",
       "      <td>-</td>\n",
       "    </tr>\n",
       "  </tbody>\n",
       "</table>\n",
       "</div>"
      ],
      "text/plain": [
       "                       Type  Presence Valency                Domain\n",
       "Feature name                                                       \n",
       "'age'                   INT  required                             -\n",
       "'workclass'          STRING  required                   'workclass'\n",
       "'fnlwgt'                INT  required                             -\n",
       "'education'          STRING  required                   'education'\n",
       "'education.num'         INT  required                             -\n",
       "'marital.status'     STRING  required          '\\'marital.status\\''\n",
       "'occupation'         STRING  required                  'occupation'\n",
       "'relationship'       STRING  required                'relationship'\n",
       "'race'               STRING  required                        'race'\n",
       "'sex'                STRING  required                         'sex'\n",
       "'capital.gain'          INT  required                             -\n",
       "'capital.loss'          INT  required                             -\n",
       "'hours.per.week'        INT  required                             -\n",
       "'native.country'     STRING  required          '\\'native.country\\''\n",
       "'income'             STRING  required                      'income'\n",
       "'__index_level_0__'     INT  required                             -"
      ]
     },
     "metadata": {},
     "output_type": "display_data"
    },
    {
     "data": {
      "text/html": [
       "<div>\n",
       "<style scoped>\n",
       "    .dataframe tbody tr th:only-of-type {\n",
       "        vertical-align: middle;\n",
       "    }\n",
       "\n",
       "    .dataframe tbody tr th {\n",
       "        vertical-align: top;\n",
       "    }\n",
       "\n",
       "    .dataframe thead th {\n",
       "        text-align: right;\n",
       "    }\n",
       "</style>\n",
       "<table border=\"1\" class=\"dataframe\">\n",
       "  <thead>\n",
       "    <tr style=\"text-align: right;\">\n",
       "      <th></th>\n",
       "      <th>Values</th>\n",
       "    </tr>\n",
       "    <tr>\n",
       "      <th>Domain</th>\n",
       "      <th></th>\n",
       "    </tr>\n",
       "  </thead>\n",
       "  <tbody>\n",
       "    <tr>\n",
       "      <th>'workclass'</th>\n",
       "      <td>'?', 'Federal-gov', 'Local-gov', 'Never-worked', 'Private', 'Self-emp-inc', 'Self-emp-not-inc', 'State-gov', 'Without-pay'</td>\n",
       "    </tr>\n",
       "    <tr>\n",
       "      <th>'education'</th>\n",
       "      <td>'10th', '11th', '12th', '1st-4th', '5th-6th', '7th-8th', '9th', 'Assoc-acdm', 'Assoc-voc', 'Bachelors', 'Doctorate', 'HS-grad', 'Masters', 'Preschool', 'Prof-school', 'Some-college'</td>\n",
       "    </tr>\n",
       "    <tr>\n",
       "      <th>'\\'marital.status\\''</th>\n",
       "      <td>'Divorced', 'Married-AF-spouse', 'Married-civ-spouse', 'Married-spouse-absent', 'Never-married', 'Separated', 'Widowed'</td>\n",
       "    </tr>\n",
       "    <tr>\n",
       "      <th>'occupation'</th>\n",
       "      <td>'?', 'Adm-clerical', 'Armed-Forces', 'Craft-repair', 'Exec-managerial', 'Farming-fishing', 'Handlers-cleaners', 'Machine-op-inspct', 'Other-service', 'Priv-house-serv', 'Prof-specialty', 'Protective-serv', 'Sales', 'Tech-support', 'Transport-moving'</td>\n",
       "    </tr>\n",
       "    <tr>\n",
       "      <th>'relationship'</th>\n",
       "      <td>'Husband', 'Not-in-family', 'Other-relative', 'Own-child', 'Unmarried', 'Wife'</td>\n",
       "    </tr>\n",
       "    <tr>\n",
       "      <th>'race'</th>\n",
       "      <td>'Amer-Indian-Eskimo', 'Asian-Pac-Islander', 'Black', 'Other', 'White'</td>\n",
       "    </tr>\n",
       "    <tr>\n",
       "      <th>'sex'</th>\n",
       "      <td>'Female', 'Male'</td>\n",
       "    </tr>\n",
       "    <tr>\n",
       "      <th>'\\'native.country\\''</th>\n",
       "      <td>'?', 'Cambodia', 'Canada', 'China', 'Columbia', 'Cuba', 'Dominican-Republic', 'Ecuador', 'El-Salvador', 'England', 'France', 'Germany', 'Greece', 'Guatemala', 'Haiti', 'Holand-Netherlands', 'Honduras', 'Hong', 'Hungary', 'India', 'Iran', 'Ireland', 'Italy', 'Jamaica', 'Japan', 'Laos', 'Mexico', 'Nicaragua', 'Outlying-US(Guam-USVI-etc)', 'Peru', 'Philippines', 'Poland', 'Portugal', 'Puerto-Rico', 'Scotland', 'South', 'Taiwan', 'Thailand', 'Trinadad&amp;Tobago', 'United-States', 'Vietnam', 'Yugoslavia'</td>\n",
       "    </tr>\n",
       "    <tr>\n",
       "      <th>'income'</th>\n",
       "      <td>'&lt;=50K', '&gt;50K'</td>\n",
       "    </tr>\n",
       "  </tbody>\n",
       "</table>\n",
       "</div>"
      ],
      "text/plain": [
       "                                                                                                                                                                                                                                                                                                                                                                                                                                                                                                                                     Values\n",
       "Domain                                                                                                                                                                                                                                                                                                                                                                                                                                                                                                                                     \n",
       "'workclass'                                                                                                                                                                                                                                                                                                                                                                                                      '?', 'Federal-gov', 'Local-gov', 'Never-worked', 'Private', 'Self-emp-inc', 'Self-emp-not-inc', 'State-gov', 'Without-pay'\n",
       "'education'                                                                                                                                                                                                                                                                                                                                           '10th', '11th', '12th', '1st-4th', '5th-6th', '7th-8th', '9th', 'Assoc-acdm', 'Assoc-voc', 'Bachelors', 'Doctorate', 'HS-grad', 'Masters', 'Preschool', 'Prof-school', 'Some-college'\n",
       "'\\'marital.status\\''                                                                                                                                                                                                                                                                                                                                                                                                'Divorced', 'Married-AF-spouse', 'Married-civ-spouse', 'Married-spouse-absent', 'Never-married', 'Separated', 'Widowed'\n",
       "'occupation'                                                                                                                                                                                                                                                                      '?', 'Adm-clerical', 'Armed-Forces', 'Craft-repair', 'Exec-managerial', 'Farming-fishing', 'Handlers-cleaners', 'Machine-op-inspct', 'Other-service', 'Priv-house-serv', 'Prof-specialty', 'Protective-serv', 'Sales', 'Tech-support', 'Transport-moving'\n",
       "'relationship'                                                                                                                                                                                                                                                                                                                                                                                                                                               'Husband', 'Not-in-family', 'Other-relative', 'Own-child', 'Unmarried', 'Wife'\n",
       "'race'                                                                                                                                                                                                                                                                                                                                                                                                                                                                'Amer-Indian-Eskimo', 'Asian-Pac-Islander', 'Black', 'Other', 'White'\n",
       "'sex'                                                                                                                                                                                                                                                                                                                                                                                                                                                                                                                      'Female', 'Male'\n",
       "'\\'native.country\\''  '?', 'Cambodia', 'Canada', 'China', 'Columbia', 'Cuba', 'Dominican-Republic', 'Ecuador', 'El-Salvador', 'England', 'France', 'Germany', 'Greece', 'Guatemala', 'Haiti', 'Holand-Netherlands', 'Honduras', 'Hong', 'Hungary', 'India', 'Iran', 'Ireland', 'Italy', 'Jamaica', 'Japan', 'Laos', 'Mexico', 'Nicaragua', 'Outlying-US(Guam-USVI-etc)', 'Peru', 'Philippines', 'Poland', 'Portugal', 'Puerto-Rico', 'Scotland', 'South', 'Taiwan', 'Thailand', 'Trinadad&Tobago', 'United-States', 'Vietnam', 'Yugoslavia'\n",
       "'income'                                                                                                                                                                                                                                                                                                                                                                                                                                                                                                                    '<=50K', '>50K'"
      ]
     },
     "metadata": {},
     "output_type": "display_data"
    }
   ],
   "source": [
    "# Infer schema from the computed statistics.\n",
    "schema = tfdv.infer_schema(statistics=train_stats)\n",
    "\n",
    "# Display the inferred schema\n",
    "tfdv.display_schema(schema)"
   ]
  },
  {
   "cell_type": "markdown",
   "metadata": {
    "id": "5oj_GIprgPU1"
   },
   "source": [
    "## Generate and visualize evaluation dataset statistics"
   ]
  },
  {
   "cell_type": "markdown",
   "metadata": {
    "id": "rTYMPukogPU1"
   },
   "source": [
    "The next step after generating the schema is to now look at the evaluation dataset. You will begin by computing its statistics then compare it with the training statistics. It is important that the numerical and categorical features of the evaluation data belongs roughly to the same range as the training data. Otherwise, you might have distribution skew that will negatively affect the accuracy of your model.\n",
    "\n",
    "TFDV allows you to generate both the training and evaluation dataset statistics side-by-side. You can use the [`visualize_statistics()`](https://www.tensorflow.org/tfx/data_validation/api_docs/python/tfdv/visualize_statistics) function and pass additional parameters to overlay the statistics from both datasets (referenced as left-hand side and right-hand side statistics). Let's see what these parameters are:\n",
    "\n",
    "- `lhs_statistics`: Required parameter. Expects an instance of `DatasetFeatureStatisticsList `.\n",
    "\n",
    "\n",
    "- `rhs_statistics`: Expects an instance of `DatasetFeatureStatisticsList ` to compare with `lhs_statistics`.\n",
    "\n",
    "\n",
    "- `lhs_name`: Name of the `lhs_statistics` dataset.\n",
    "\n",
    "\n",
    "- `rhs_name`: Name of the `rhs_statistics` dataset."
   ]
  },
  {
   "cell_type": "code",
   "execution_count": 10,
   "metadata": {
    "id": "bzZy1x3c6Mi0",
    "scrolled": true
   },
   "outputs": [
    {
     "data": {
      "text/html": [
       "<iframe id='facets-iframe' width=\"100%\" height=\"500px\"></iframe>\n",
       "        <script>\n",
       "        facets_iframe = document.getElementById('facets-iframe');\n",
       "        facets_html = '<script src=\"https://cdnjs.cloudflare.com/ajax/libs/webcomponentsjs/1.3.3/webcomponents-lite.js\"><\\/script><link rel=\"import\" href=\"https://raw.githubusercontent.com/PAIR-code/facets/master/facets-dist/facets-jupyter.html\"><facets-overview proto-input=\"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\"></facets-overview>';\n",
       "        facets_iframe.srcdoc = facets_html;\n",
       "         facets_iframe.id = \"\";\n",
       "         setTimeout(() => {\n",
       "           facets_iframe.setAttribute('height', facets_iframe.contentWindow.document.body.offsetHeight + 'px')\n",
       "         }, 1500)\n",
       "         </script>"
      ],
      "text/plain": [
       "<IPython.core.display.HTML object>"
      ]
     },
     "metadata": {},
     "output_type": "display_data"
    }
   ],
   "source": [
    "# Generate evaluation dataset statistics\n",
    "eval_stats = tfdv.generate_statistics_from_dataframe(eval_df)\n",
    "\n",
    "# Compare training with evaluation\n",
    "tfdv.visualize_statistics(\n",
    "    lhs_statistics=eval_stats, \n",
    "    rhs_statistics=train_stats, \n",
    "    lhs_name='EVAL_DATASET', \n",
    "    rhs_name='TRAIN_DATASET'\n",
    ")"
   ]
  },
  {
   "cell_type": "markdown",
   "metadata": {
    "id": "GODDgoHdgPU2"
   },
   "source": [
    "We encourage you to observe the results generated and toggle the menus to practice manipulating the visualization (e.g. sort by missing/zeroes). You'll notice that TFDV detects the malformed rows we introduced earlier. First, the `min` and `max` values of the `age` row shows `0` and `1000`, respectively. We know that those values do not make sense if we're talking about working adults. Secondly, the `workclass` row in the Categorical Features says that `0.02%` of the data is missing that particular attribute. Let's drop these rows to make the data more clean."
   ]
  },
  {
   "cell_type": "code",
   "execution_count": 11,
   "metadata": {},
   "outputs": [],
   "source": [
    "# filter the age range\n",
    "eval_df = eval_df[eval_df['age'] > 16]\n",
    "eval_df = eval_df[eval_df['age'] < 91]\n",
    "\n",
    "# drop missing values\n",
    "eval_df.dropna(inplace=True)"
   ]
  },
  {
   "cell_type": "markdown",
   "metadata": {},
   "source": [
    "You can then compute the statistics again and see the difference in the results."
   ]
  },
  {
   "cell_type": "code",
   "execution_count": 12,
   "metadata": {},
   "outputs": [
    {
     "data": {
      "text/html": [
       "<iframe id='facets-iframe' width=\"100%\" height=\"500px\"></iframe>\n",
       "        <script>\n",
       "        facets_iframe = document.getElementById('facets-iframe');\n",
       "        facets_html = '<script src=\"https://cdnjs.cloudflare.com/ajax/libs/webcomponentsjs/1.3.3/webcomponents-lite.js\"><\\/script><link rel=\"import\" href=\"https://raw.githubusercontent.com/PAIR-code/facets/master/facets-dist/facets-jupyter.html\"><facets-overview proto-input=\"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\"></facets-overview>';\n",
       "        facets_iframe.srcdoc = facets_html;\n",
       "         facets_iframe.id = \"\";\n",
       "         setTimeout(() => {\n",
       "           facets_iframe.setAttribute('height', facets_iframe.contentWindow.document.body.offsetHeight + 'px')\n",
       "         }, 1500)\n",
       "         </script>"
      ],
      "text/plain": [
       "<IPython.core.display.HTML object>"
      ]
     },
     "metadata": {},
     "output_type": "display_data"
    }
   ],
   "source": [
    "# Generate evaluation dataset statistics\n",
    "eval_stats = tfdv.generate_statistics_from_dataframe(eval_df)\n",
    "\n",
    "# Compare training with evaluation\n",
    "tfdv.visualize_statistics(\n",
    "    lhs_statistics=eval_stats, \n",
    "    rhs_statistics=train_stats, \n",
    "    lhs_name='EVAL_DATASET', \n",
    "    rhs_name='TRAIN_DATASET'\n",
    ")"
   ]
  },
  {
   "cell_type": "markdown",
   "metadata": {
    "id": "J3Lvnr-YgPU2"
   },
   "source": [
    "## Calculate and display evaluation anomalies"
   ]
  },
  {
   "cell_type": "markdown",
   "metadata": {
    "id": "D1D9bNcigPU2"
   },
   "source": [
    "You can use your reference schema to check for anomalies such as new values for a specific feature in the evaluation data. Detected anomalies can either be considered a real error that needs to be cleaned, or depending on your domain knowledge and the specific case, they can be accepted. \n",
    "\n",
    "Let's detect and display evaluation anomalies and see if there are any problems that need to be addressed."
   ]
  },
  {
   "cell_type": "code",
   "execution_count": 13,
   "metadata": {
    "id": "OR5dBqpW6ky2"
   },
   "outputs": [
    {
     "data": {
      "text/html": [
       "<h4 style=\"color:green;\">No anomalies found.</h4>"
      ],
      "text/plain": [
       "<IPython.core.display.HTML object>"
      ]
     },
     "metadata": {},
     "output_type": "display_data"
    }
   ],
   "source": [
    "# Check evaluation data for errors by validating the evaluation dataset statistics using the reference schema\n",
    "anomalies =  tfdv.validate_statistics(statistics=eval_stats, schema=schema)\n",
    "\n",
    "# Visualize anomalies\n",
    "tfdv.display_anomalies(anomalies)"
   ]
  },
  {
   "cell_type": "markdown",
   "metadata": {
    "id": "HeEvhvgqzLu-"
   },
   "source": [
    "## Revising the Schema\n",
    "\n",
    "As shown in the results above, TFDV is able to detect the remaining irregularities we introduced earlier. The short and long descriptions tell us what were detected. As expected, there are string values for `race`, `native-country` and `occupation` that are not found in the domain of the training set schema (you might see a different result if the shuffling of the datasets was applied). What you decide to do about the anomalies depend on your domain knowledge of the data. If an anomaly indicates a data error, then the underlying data should be fixed. Otherwise, you can update the schema to include the values in the evaluation dataset.\n",
    "\n",
    "TFDV provides a set of utility methods and parameters that you can use for revising the inferred schema. This [reference](https://www.tensorflow.org/tfx/data_validation/anomalies) lists down the type of anomalies and the parameters that you can edit but we'll focus only on a couple here.\n",
    "\n",
    "- You can relax the minimum fraction of values that must come from the domain of a particular feature (as described by `ENUM_TYPE_UNEXPECTED_STRING_VALUES` in the [reference](https://www.tensorflow.org/tfx/data_validation/anomalies)):\n",
    "\n",
    "```python\n",
    "tfdv.get_feature(schema, 'feature_column_name').distribution_constraints.min_domain_mass = <float: 0.0 to 1.0>\n",
    "```\n",
    "\n",
    "- You can add a new value to the domain of a particular feature:\n",
    "\n",
    "```python\n",
    "tfdv.get_domain(schema, 'feature_column_name').value.append('string')\n",
    "```\n",
    "\n",
    "Let's use these in the next section."
   ]
  },
  {
   "cell_type": "markdown",
   "metadata": {
    "id": "HKECg6Lf6-ks"
   },
   "source": [
    "## Fix anomalies in the schema\n",
    "\n",
    "Let's say that we want to accept the string anomalies reported as valid. If you want to tolerate a fraction of missing values from the evaluation dataset, you can do it like this:"
   ]
  },
  {
   "cell_type": "code",
   "execution_count": 14,
   "metadata": {},
   "outputs": [
    {
     "ename": "ValueError",
     "evalue": "Feature native-country not found in the schema.",
     "output_type": "error",
     "traceback": [
      "\u001b[1;31m---------------------------------------------------------------------------\u001b[0m",
      "\u001b[1;31mValueError\u001b[0m                                Traceback (most recent call last)",
      "Cell \u001b[1;32mIn[14], line 2\u001b[0m\n\u001b[0;32m      1\u001b[0m \u001b[38;5;66;03m# Relax the minimum fraction of values that must come from the domain for the feature `native-country`\u001b[39;00m\n\u001b[1;32m----> 2\u001b[0m country_feature \u001b[38;5;241m=\u001b[39m \u001b[43mtfdv\u001b[49m\u001b[38;5;241;43m.\u001b[39;49m\u001b[43mget_feature\u001b[49m\u001b[43m(\u001b[49m\u001b[43mschema\u001b[49m\u001b[43m,\u001b[49m\u001b[43m \u001b[49m\u001b[38;5;124;43m'\u001b[39;49m\u001b[38;5;124;43mnative-country\u001b[39;49m\u001b[38;5;124;43m'\u001b[39;49m\u001b[43m)\u001b[49m\n\u001b[0;32m      3\u001b[0m country_feature\u001b[38;5;241m.\u001b[39mdistribution_constraints\u001b[38;5;241m.\u001b[39mmin_domain_mass \u001b[38;5;241m=\u001b[39m \u001b[38;5;241m0.9\u001b[39m\n\u001b[0;32m      5\u001b[0m \u001b[38;5;66;03m# Relax the minimum fraction of values that must come from the domain for the feature `occupation`\u001b[39;00m\n",
      "File \u001b[1;32mc:\\users\\efe\\pycharmprojects\\machine-learning-engineering-for-production-public\\course2\\week1-ungraded-lab\\efe1\\lib\\site-packages\\tensorflow_data_validation\\utils\\schema_util.py:72\u001b[0m, in \u001b[0;36mget_feature\u001b[1;34m(schema, feature_path)\u001b[0m\n\u001b[0;32m     70\u001b[0m feature \u001b[38;5;241m=\u001b[39m look_up_feature(feature_path\u001b[38;5;241m.\u001b[39msteps()[\u001b[38;5;241m-\u001b[39m\u001b[38;5;241m1\u001b[39m], feature_container)\n\u001b[0;32m     71\u001b[0m \u001b[38;5;28;01mif\u001b[39;00m feature \u001b[38;5;129;01mis\u001b[39;00m \u001b[38;5;28;01mNone\u001b[39;00m:\n\u001b[1;32m---> 72\u001b[0m   \u001b[38;5;28;01mraise\u001b[39;00m \u001b[38;5;167;01mValueError\u001b[39;00m(\u001b[38;5;124m'\u001b[39m\u001b[38;5;124mFeature \u001b[39m\u001b[38;5;132;01m%s\u001b[39;00m\u001b[38;5;124m not found in the schema.\u001b[39m\u001b[38;5;124m'\u001b[39m \u001b[38;5;241m%\u001b[39m feature_path)\n\u001b[0;32m     73\u001b[0m \u001b[38;5;28;01mreturn\u001b[39;00m feature\n",
      "\u001b[1;31mValueError\u001b[0m: Feature native-country not found in the schema."
     ]
    }
   ],
   "source": [
    "# Relax the minimum fraction of values that must come from the domain for the feature `native-country`\n",
    "country_feature = tfdv.get_feature(schema, 'native-country')\n",
    "country_feature.distribution_constraints.min_domain_mass = 0.9\n",
    "\n",
    "# Relax the minimum fraction of values that must come from the domain for the feature `occupation`\n",
    "occupation_feature = tfdv.get_feature(schema, 'occupation')\n",
    "occupation_feature.distribution_constraints.min_domain_mass = 0.9"
   ]
  },
  {
   "cell_type": "markdown",
   "metadata": {},
   "source": [
    "If you want to be rigid and instead add only valid values to the domain, you can do it like this:"
   ]
  },
  {
   "cell_type": "code",
   "execution_count": null,
   "metadata": {
    "id": "hTCWS04p6lDh"
   },
   "outputs": [],
   "source": [
    "# Add new value to the domain of the feature `race`\n",
    "race_domain = tfdv.get_domain(schema, 'race')\n",
    "race_domain.value.append('Asian')"
   ]
  },
  {
   "cell_type": "markdown",
   "metadata": {},
   "source": [
    "In addition, you can also restrict the range of a numerical feature. This will let you know of invalid values without having to inspect it visually (e.g. the invalid `age` values earlier)."
   ]
  },
  {
   "cell_type": "code",
   "execution_count": null,
   "metadata": {},
   "outputs": [],
   "source": [
    "# Restrict the range of the `age` feature\n",
    "tfdv.set_domain(schema, 'age', schema_pb2.IntDomain(name='age', min=17, max=90))\n",
    "\n",
    "# Display the modified schema. Notice the `Domain` column of `age`.\n",
    "tfdv.display_schema(schema)"
   ]
  },
  {
   "cell_type": "markdown",
   "metadata": {},
   "source": [
    "With these revisions, running the validation should now show no anomalies."
   ]
  },
  {
   "cell_type": "code",
   "execution_count": null,
   "metadata": {},
   "outputs": [],
   "source": [
    "# Validate eval stats after updating the schema \n",
    "updated_anomalies = tfdv.validate_statistics(eval_stats, schema)\n",
    "tfdv.display_anomalies(updated_anomalies)"
   ]
  },
  {
   "cell_type": "markdown",
   "metadata": {},
   "source": [
    "## Examining dataset slices\n",
    "\n",
    "TFDV also allows you to analyze specific slices of your dataset. This is particularly useful if you want to inspect if a feature type is well-represented in your dataset. Let's walk through an example where we want to compare the statistics for male and female participants."
   ]
  },
  {
   "cell_type": "markdown",
   "metadata": {},
   "source": [
    "First, you will use the [`get_feature_value_slicer`](https://github.com/tensorflow/data-validation/blob/master/tensorflow_data_validation/utils/slicing_util.py#L48) method from the `slicing_util` to get the features you want to examine. You can specify that by passing a dictionary to the `features` argument. If you want to get the entire domain of a feature, then you can map the feature name with `None` as shown below. This means that you will get slices for both `Male` and `Female` entries. This returns a function that can be used to extract the said feature slice."
   ]
  },
  {
   "cell_type": "code",
   "execution_count": null,
   "metadata": {},
   "outputs": [],
   "source": [
    "from tensorflow_data_validation.utils import slicing_util\n",
    "\n",
    "slice_fn = slicing_util.get_feature_value_slicer(features={'sex': None})"
   ]
  },
  {
   "cell_type": "markdown",
   "metadata": {},
   "source": [
    "With the slice function ready, you can now generate the statistics. You need to tell TFDV that you need statistics for the features you set and you can do that through the `slice_functions` argument of [`tfdv.StatsOptions`](https://www.tensorflow.org/tfx/data_validation/api_docs/python/tfdv/StatsOptions). Let's prepare that in the cell below. Notice that you also need to pass in the schema."
   ]
  },
  {
   "cell_type": "code",
   "execution_count": null,
   "metadata": {},
   "outputs": [],
   "source": [
    "# Declare stats options\n",
    "slice_stats_options = tfdv.StatsOptions(schema=schema,\n",
    "                                        slice_functions=[slice_fn],\n",
    "                                        infer_type_from_schema=True)"
   ]
  },
  {
   "cell_type": "markdown",
   "metadata": {},
   "source": [
    "You will then pass these options to the `generate_statistics_from_csv()` method. As of writing, generating sliced statistics only works for CSVs so you will need to convert the Pandas dataframe to a CSV. Passing the `slice_stats_options` to `generate_statistics_from_dataframe()` will not produce the expected results."
   ]
  },
  {
   "cell_type": "code",
   "execution_count": null,
   "metadata": {},
   "outputs": [],
   "source": [
    "# Convert dataframe to CSV since `slice_functions` works only with `tfdv.generate_statistics_from_csv`\n",
    "CSV_PATH = 'slice_sample.csv'\n",
    "train_df.to_csv(CSV_PATH)\n",
    "\n",
    "# Calculate statistics for the sliced dataset\n",
    "sliced_stats = tfdv.generate_statistics_from_csv(CSV_PATH, stats_options=slice_stats_options)"
   ]
  },
  {
   "cell_type": "markdown",
   "metadata": {},
   "source": [
    "With that, you now have the statistics for the set slice. These are packed into a `DatasetFeatureStatisticsList` protocol buffer. You can see the dataset names below. The first element in the list (i.e. index=0) is named `All_Examples` which just contains the statistics for the entire dataset. The next two elements (i.e. named `sex_Male` and `sex_Female`) are the datasets that contain the stats for the slices. It is important to note that these datasets are of the type: `DatasetFeatureStatistics`. You will see why this is important after the cell below."
   ]
  },
  {
   "cell_type": "code",
   "execution_count": null,
   "metadata": {},
   "outputs": [],
   "source": [
    "print(f'Datasets generated: {[sliced.name for sliced in sliced_stats.datasets]}')\n",
    "\n",
    "print(f'Type of sliced_stats elements: {type(sliced_stats.datasets[0])}')"
   ]
  },
  {
   "cell_type": "markdown",
   "metadata": {},
   "source": [
    "You can then visualize the statistics as before to examine the slices. An important caveat is `visualize_statistics()` accepts a `DatasetFeatureStatisticsList` type instead of `DatasetFeatureStatistics`. Thus, at least for this version of TFDV, you will need to convert it to the correct type."
   ]
  },
  {
   "cell_type": "code",
   "execution_count": null,
   "metadata": {},
   "outputs": [],
   "source": [
    "from tensorflow_metadata.proto.v0.statistics_pb2 import DatasetFeatureStatisticsList\n",
    "\n",
    "# Convert `Male` statistics (index=1) to the correct type and get the dataset name\n",
    "male_stats_list = DatasetFeatureStatisticsList()\n",
    "male_stats_list.datasets.extend([sliced_stats.datasets[1]])\n",
    "male_stats_name = sliced_stats.datasets[1].name\n",
    "\n",
    "# Convert `Female` statistics (index=2) to the correct type and get the dataset name\n",
    "female_stats_list = DatasetFeatureStatisticsList()\n",
    "female_stats_list.datasets.extend([sliced_stats.datasets[2]])\n",
    "female_stats_name = sliced_stats.datasets[2].name\n",
    "\n",
    "# Visualize the two slices side by side\n",
    "tfdv.visualize_statistics(\n",
    "    lhs_statistics=male_stats_list,\n",
    "    rhs_statistics=female_stats_list,\n",
    "    lhs_name=male_stats_name,\n",
    "    rhs_name=female_stats_name\n",
    ")"
   ]
  },
  {
   "cell_type": "markdown",
   "metadata": {},
   "source": [
    "You should now see the visualization of the two slices and you can compare how they are represented in the dataset. \n",
    "\n",
    "We encourage you to go back to the beginning of this section and try different slices. Here are other ways you can explore:\n",
    "\n",
    "* If you want to be more specific, then you can map the specific value to the feature name. For example, if you want just `Male`, then you can declare it as `features={'sex': [b'Male']}`. Notice that the string literal needs to be passed in as bytes with the `b'` prefix.\n",
    "\n",
    "* You can also pass in several features if you want. For example, if you want to slice through both the `sex` and `race` features, then you can do `features={'sex': None, 'race': None}`.\n",
    "\n",
    "You might find it cumbersome or inefficient to redo the whole process for a particular slice. For that, you can make helper functions to streamline the type conversions and you will see one implementation in this week's assignment."
   ]
  },
  {
   "cell_type": "markdown",
   "metadata": {
    "id": "YY812jDDgPU3"
   },
   "source": [
    "## Wrap up\n",
    "\n",
    "This exercise demonstrated how you would use Tensorflow Data Validation in a machine learning project.\n",
    "\n",
    "* It allows you to scale the computation of statistics over datasets.\n",
    "\n",
    "* You can infer the schema of a given dataset and revise it based on your domain knowledge. \n",
    "\n",
    "* You can inspect discrepancies between the training and evaluation datasets by visualizing the statistics and detecting anomalies.\n",
    "\n",
    "* You can analyze specific slices of your dataset.\n",
    "\n",
    "You can consult this notebook in this week's programming assignment as well as these additional resources:\n",
    "\n",
    "* [TFDV Guide](https://www.tensorflow.org/tfx/data_validation/get_started) \n",
    "* [TFDV blog post](https://blog.tensorflow.org/2018/09/introducing-tensorflow-data-validation.html)\n",
    "* [Tensorflow Official Tutorial](https://colab.research.google.com/github/tensorflow/tfx/blob/master/docs/tutorials/data_validation/tfdv_basic.ipynb#scrollTo=mPt5BHTwy_0F)\n",
    "* [API Docs](https://www.tensorflow.org/tfx/data_validation/api_docs/python/tfdv)"
   ]
  }
 ],
 "metadata": {
  "colab": {
   "collapsed_sections": [],
   "name": "C2_W1_Lab_1_TFDV_Exercise.ipynb",
   "provenance": []
  },
  "kernelspec": {
   "display_name": "Python 3 (ipykernel)",
   "language": "python",
   "name": "python3"
  },
  "language_info": {
   "codemirror_mode": {
    "name": "ipython",
    "version": 3
   },
   "file_extension": ".py",
   "mimetype": "text/x-python",
   "name": "python",
   "nbconvert_exporter": "python",
   "pygments_lexer": "ipython3",
   "version": "3.9.2"
  }
 },
 "nbformat": 4,
 "nbformat_minor": 4
}
